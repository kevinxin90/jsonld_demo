{
 "cells": [
  {
   "cell_type": "markdown",
   "metadata": {},
   "source": [
    "# BioThings Explorer Demo"
   ]
  },
  {
   "cell_type": "markdown",
   "metadata": {},
   "source": [
    "### Use Case Description"
   ]
  },
  {
   "cell_type": "markdown",
   "metadata": {},
   "source": [
    "1. Give a Entrez Gene ID (e.g. 6470)\n",
    "2. Return all Wikipathway IDs in which the Entrez Gene ID provided in Step 1 is involved\n",
    "3. Find all Entrez Gene IDs which are involved in the Wikipathway IDs returned in Step 2\n",
    "4. Find all compounds or drugs targeting the Entrez Gene IDs returned in Step 3"
   ]
  },
  {
   "cell_type": "markdown",
   "metadata": {},
   "source": [
    "#### Step 1: Input Entrez Gene ID"
   ]
  },
  {
   "cell_type": "code",
   "execution_count": 1,
   "metadata": {
    "collapsed": false
   },
   "outputs": [],
   "source": [
    "# import BioThings Explorer Python Package\n",
    "from biothings import BiothingsExplorer"
   ]
  },
  {
   "cell_type": "code",
   "execution_count": 4,
   "metadata": {
    "collapsed": true
   },
   "outputs": [],
   "source": [
    "# Input Entrez Gene ID\n",
    "type = \"entrez_gene_id\"\n",
    "value = \"1679\""
   ]
  },
  {
   "cell_type": "markdown",
   "metadata": {},
   "source": [
    "#### Step 2: Find related wikipathway IDs "
   ]
  },
  {
   "cell_type": "code",
   "execution_count": 5,
   "metadata": {
    "collapsed": false
   },
   "outputs": [
    {
     "name": "stdout",
     "output_type": "stream",
     "text": [
      "Summary of resources to explore for entrez_gene_id 1679:\n",
      "\n",
      "Annotation Resources: mygene.info\n",
      "\n",
      "Query Resources: myvariant.info, mygene.info\n",
      "\n",
      "Ids from annotation resources for further annotate: ensembl_gene_id, hgnc_gene_symbol, wikipathway_id, uniprot_id\n",
      "\n",
      "Ids from annotation resources for further query: pubmed_id, ensembl_gene_id, hgnc_gene_symbol, wikipathway_id, uniprot_id\n",
      "\n"
     ]
    }
   ],
   "source": [
    "# Get exploration results for Entrez Gene ID 6470\n",
    "gene_1679_results = BiothingsExplorer(type, value)"
   ]
  },
  {
   "cell_type": "code",
   "execution_count": 6,
   "metadata": {
    "collapsed": false
   },
   "outputs": [
    {
     "name": "stdout",
     "output_type": "stream",
     "text": [
      "['WP404']\n"
     ]
    }
   ],
   "source": [
    "# Find wikipathway ids in the exploration results\n",
    "wikipathway_ids = gene_1679_results.ExploreXrefResults().results()['query']['wikipathway_id']\n",
    "print(wikipathway_ids)"
   ]
  },
  {
   "cell_type": "markdown",
   "metadata": {},
   "source": [
    "#### Step 3: Find related gene IDs to pathway IDs"
   ]
  },
  {
   "cell_type": "code",
   "execution_count": 7,
   "metadata": {
    "collapsed": false
   },
   "outputs": [
    {
     "name": "stdout",
     "output_type": "stream",
     "text": [
      "Summary of resources to explore for wikipathway_id WP404:\n",
      "\n",
      "Annotation Resources: wikipathways\n",
      "\n",
      "Query Resources: mygene.info\n",
      "\n",
      "Fetching 19 genes(s) . . .\n",
      "Number of IDs from mygene.info related to this query is : 19\n",
      "Gene IDs related to wikipathway id WP404: ['4831', '158', '3614', '6303', '159', '5634', '5423', '4946', '5631', '5428', '3251', '6723', '5424', '6241', '50484', '5422', '6240', '1719', '10797']\n"
     ]
    }
   ],
   "source": [
    "for _pathway in wikipathway_ids:\n",
    "    # Get exploration results for each Wikipathways ID returned from step 2\n",
    "    wikipathway_results = BiothingsExplorer('wikipathway_id', _pathway)\n",
    "    # From the exploration results, get gene id list info from 'mygene.info'\n",
    "    gene_list = wikipathway_results.ExploreQueryResults().get_id_list('mygene.info')\n",
    "    print('Gene IDs related to wikipathway id {}: {}'.format(_pathway, gene_list))"
   ]
  },
  {
   "cell_type": "markdown",
   "metadata": {},
   "source": [
    "#### Step 4: Find all compounds and drugs targeting gene IDs"
   ]
  },
  {
   "cell_type": "code",
   "execution_count": 8,
   "metadata": {
    "collapsed": true
   },
   "outputs": [],
   "source": [
    "# initialize final results dict\n",
    "final_results = {}"
   ]
  },
  {
   "cell_type": "code",
   "execution_count": 9,
   "metadata": {
    "collapsed": false
   },
   "outputs": [
    {
     "name": "stdout",
     "output_type": "stream",
     "text": [
      "Summary of resources to explore for entrez_gene_id 4831:\n",
      "\n",
      "Annotation Resources: mygene.info\n",
      "\n",
      "Query Resources: myvariant.info, mygene.info\n",
      "\n",
      "Ids from annotation resources for further annotate: ensembl_gene_id, hgnc_gene_symbol, wikipathway_id, uniprot_id\n",
      "\n",
      "Ids from annotation resources for further query: pubmed_id, ensembl_gene_id, hgnc_gene_symbol, wikipathway_id, uniprot_id\n",
      "\n",
      "Fetching 8 drug(s) . . .\n",
      "No results to return\n",
      "Number of IDs from mydrug.info related to this query is : 8\n",
      "Summary of resources to explore for entrez_gene_id 158:\n",
      "\n",
      "Annotation Resources: mygene.info\n",
      "\n",
      "Query Resources: myvariant.info, mygene.info\n",
      "\n",
      "Ids from annotation resources for further annotate: ensembl_gene_id, hgnc_gene_symbol, wikipathway_id, uniprot_id\n",
      "\n",
      "Ids from annotation resources for further query: pubmed_id, ensembl_gene_id, hgnc_gene_symbol, wikipathway_id, uniprot_id\n",
      "\n",
      "Fetching 39 drug(s) . . .\n",
      "No results to return\n",
      "Number of IDs from mydrug.info related to this query is : 39\n",
      "Summary of resources to explore for entrez_gene_id 3614:\n",
      "\n",
      "Annotation Resources: mygene.info\n",
      "\n",
      "Query Resources: myvariant.info, mygene.info\n",
      "\n",
      "Ids from annotation resources for further annotate: ensembl_gene_id, hgnc_gene_symbol, wikipathway_id, uniprot_id\n",
      "\n",
      "Ids from annotation resources for further query: pubmed_id, ensembl_gene_id, hgnc_gene_symbol, wikipathway_id, uniprot_id\n",
      "\n",
      "Fetching 38 drug(s) . . .\n",
      "No results to return\n",
      "Number of IDs from mydrug.info related to this query is : 38\n",
      "Summary of resources to explore for entrez_gene_id 6303:\n",
      "\n",
      "Annotation Resources: mygene.info\n",
      "\n",
      "Query Resources: myvariant.info, mygene.info\n",
      "\n",
      "Ids from annotation resources for further annotate: ensembl_gene_id, hgnc_gene_symbol, wikipathway_id, uniprot_id\n",
      "\n",
      "Ids from annotation resources for further query: pubmed_id, ensembl_gene_id, hgnc_gene_symbol, wikipathway_id, uniprot_id\n",
      "\n",
      "Fetching 2 drug(s) . . .\n",
      "No results to return\n",
      "Number of IDs from mydrug.info related to this query is : 2\n",
      "Summary of resources to explore for entrez_gene_id 159:\n",
      "\n",
      "Annotation Resources: mygene.info\n",
      "\n",
      "Query Resources: myvariant.info, mygene.info\n",
      "\n",
      "Ids from annotation resources for further annotate: ensembl_gene_id, hgnc_gene_symbol, wikipathway_id, uniprot_id\n",
      "\n",
      "Ids from annotation resources for further query: pubmed_id, ensembl_gene_id, hgnc_gene_symbol, wikipathway_id, uniprot_id\n",
      "\n",
      "Fetching 31 drug(s) . . .\n",
      "No results to return\n",
      "Number of IDs from mydrug.info related to this query is : 31\n",
      "Summary of resources to explore for entrez_gene_id 5634:\n",
      "\n",
      "Annotation Resources: mygene.info\n",
      "\n",
      "Query Resources: myvariant.info, mygene.info\n",
      "\n",
      "Ids from annotation resources for further annotate: ensembl_gene_id, hgnc_gene_symbol, wikipathway_id, uniprot_id\n",
      "\n",
      "Ids from annotation resources for further query: pubmed_id, ensembl_gene_id, hgnc_gene_symbol, wikipathway_id, uniprot_id\n",
      "\n",
      "Fetching 0 drug(s) . . .\n",
      "No results to return\n",
      "Number of IDs from mydrug.info related to this query is : 0\n",
      "Summary of resources to explore for entrez_gene_id 5423:\n",
      "\n",
      "Annotation Resources: mygene.info\n",
      "\n",
      "Query Resources: myvariant.info, mygene.info\n",
      "\n",
      "Ids from annotation resources for further annotate: ensembl_gene_id, hgnc_gene_symbol, wikipathway_id, uniprot_id\n",
      "\n",
      "Ids from annotation resources for further query: pubmed_id, ensembl_gene_id, hgnc_gene_symbol, wikipathway_id, uniprot_id\n",
      "\n",
      "Fetching 3 drug(s) . . .\n",
      "No results to return\n",
      "Number of IDs from mydrug.info related to this query is : 3\n",
      "Summary of resources to explore for entrez_gene_id 4946:\n",
      "\n",
      "Annotation Resources: mygene.info\n",
      "\n",
      "Query Resources: myvariant.info, mygene.info\n",
      "\n",
      "Ids from annotation resources for further annotate: ensembl_gene_id, hgnc_gene_symbol, wikipathway_id, uniprot_id\n",
      "\n",
      "Ids from annotation resources for further query: pubmed_id, ensembl_gene_id, hgnc_gene_symbol, wikipathway_id, uniprot_id\n",
      "\n",
      "Fetching 1 drug(s) . . .\n",
      "No results to return\n",
      "Number of IDs from mydrug.info related to this query is : 1\n",
      "Summary of resources to explore for entrez_gene_id 5631:\n",
      "\n",
      "Annotation Resources: mygene.info\n",
      "\n",
      "Query Resources: myvariant.info, mygene.info\n",
      "\n",
      "Ids from annotation resources for further annotate: ensembl_gene_id, hgnc_gene_symbol, wikipathway_id, uniprot_id\n",
      "\n",
      "Ids from annotation resources for further query: pubmed_id, ensembl_gene_id, hgnc_gene_symbol, wikipathway_id, uniprot_id\n",
      "\n",
      "Fetching 0 drug(s) . . .\n",
      "No results to return\n",
      "Number of IDs from mydrug.info related to this query is : 0\n",
      "Summary of resources to explore for entrez_gene_id 5428:\n",
      "\n",
      "Annotation Resources: mygene.info\n",
      "\n",
      "Query Resources: myvariant.info, mygene.info\n",
      "\n",
      "Ids from annotation resources for further annotate: ensembl_gene_id, hgnc_gene_symbol, wikipathway_id, uniprot_id\n",
      "\n",
      "Ids from annotation resources for further query: pubmed_id, ensembl_gene_id, hgnc_gene_symbol, wikipathway_id, uniprot_id\n",
      "\n",
      "Fetching 0 drug(s) . . .\n",
      "No results to return\n",
      "Number of IDs from mydrug.info related to this query is : 0\n",
      "Summary of resources to explore for entrez_gene_id 3251:\n",
      "\n",
      "Annotation Resources: mygene.info\n",
      "\n",
      "Query Resources: myvariant.info, mygene.info\n",
      "\n",
      "Ids from annotation resources for further annotate: ensembl_gene_id, hgnc_gene_symbol, wikipathway_id, uniprot_id\n",
      "\n",
      "Ids from annotation resources for further query: pubmed_id, ensembl_gene_id, hgnc_gene_symbol, wikipathway_id, uniprot_id\n",
      "\n",
      "Fetching 34 drug(s) . . .\n",
      "No results to return\n",
      "Number of IDs from mydrug.info related to this query is : 34\n",
      "Summary of resources to explore for entrez_gene_id 6723:\n",
      "\n",
      "Annotation Resources: mygene.info\n",
      "\n",
      "Query Resources: myvariant.info, mygene.info\n",
      "\n",
      "Ids from annotation resources for further annotate: ensembl_gene_id, hgnc_gene_symbol, wikipathway_id, uniprot_id\n",
      "\n",
      "Ids from annotation resources for further query: pubmed_id, ensembl_gene_id, hgnc_gene_symbol, wikipathway_id, uniprot_id\n",
      "\n",
      "Fetching 26 drug(s) . . .\n",
      "No results to return\n",
      "Number of IDs from mydrug.info related to this query is : 26\n",
      "Summary of resources to explore for entrez_gene_id 5424:\n",
      "\n",
      "Annotation Resources: mygene.info\n",
      "\n",
      "Query Resources: myvariant.info, mygene.info\n",
      "\n",
      "Ids from annotation resources for further annotate: ensembl_gene_id, hgnc_gene_symbol, wikipathway_id, uniprot_id\n",
      "\n",
      "Ids from annotation resources for further query: pubmed_id, ensembl_gene_id, hgnc_gene_symbol, wikipathway_id, uniprot_id\n",
      "\n",
      "Fetching 0 drug(s) . . .\n",
      "No results to return\n",
      "Number of IDs from mydrug.info related to this query is : 0\n",
      "Summary of resources to explore for entrez_gene_id 6241:\n",
      "\n",
      "Annotation Resources: mygene.info\n",
      "\n",
      "Query Resources: myvariant.info, mygene.info\n",
      "\n",
      "Ids from annotation resources for further annotate: ensembl_gene_id, hgnc_gene_symbol, wikipathway_id, uniprot_id\n",
      "\n",
      "Ids from annotation resources for further query: pubmed_id, ensembl_gene_id, hgnc_gene_symbol, wikipathway_id, uniprot_id\n",
      "\n",
      "Fetching 54 drug(s) . . .\n",
      "No results to return\n",
      "Number of IDs from mydrug.info related to this query is : 54\n",
      "Summary of resources to explore for entrez_gene_id 50484:\n",
      "\n",
      "Annotation Resources: mygene.info\n",
      "\n",
      "Query Resources: myvariant.info, mygene.info\n",
      "\n",
      "Ids from annotation resources for further annotate: ensembl_gene_id, hgnc_gene_symbol, wikipathway_id, uniprot_id\n",
      "\n",
      "Ids from annotation resources for further query: pubmed_id, ensembl_gene_id, hgnc_gene_symbol, wikipathway_id, uniprot_id\n",
      "\n",
      "Fetching 25 drug(s) . . .\n",
      "No results to return\n",
      "Number of IDs from mydrug.info related to this query is : 25\n",
      "Summary of resources to explore for entrez_gene_id 5422:\n",
      "\n",
      "Annotation Resources: mygene.info\n",
      "\n",
      "Query Resources: myvariant.info, mygene.info\n",
      "\n",
      "Ids from annotation resources for further annotate: ensembl_gene_id, hgnc_gene_symbol, wikipathway_id, uniprot_id\n",
      "\n",
      "Ids from annotation resources for further query: pubmed_id, ensembl_gene_id, hgnc_gene_symbol, wikipathway_id, uniprot_id\n",
      "\n",
      "Fetching 4 drug(s) . . .\n",
      "No results to return\n",
      "Number of IDs from mydrug.info related to this query is : 4\n",
      "Summary of resources to explore for entrez_gene_id 6240:\n",
      "\n",
      "Annotation Resources: mygene.info\n",
      "\n",
      "Query Resources: myvariant.info, mygene.info\n",
      "\n",
      "Ids from annotation resources for further annotate: ensembl_gene_id, hgnc_gene_symbol, wikipathway_id, uniprot_id\n",
      "\n",
      "Ids from annotation resources for further query: pubmed_id, ensembl_gene_id, hgnc_gene_symbol, wikipathway_id, uniprot_id\n",
      "\n",
      "Fetching 38 drug(s) . . .\n",
      "No results to return\n",
      "Number of IDs from mydrug.info related to this query is : 38\n",
      "Summary of resources to explore for entrez_gene_id 1719:\n",
      "\n",
      "Annotation Resources: mygene.info\n",
      "\n",
      "Query Resources: myvariant.info, mygene.info\n",
      "\n",
      "Ids from annotation resources for further annotate: ensembl_gene_id, uniprot_id, hgnc_gene_symbol, wikipathway_id\n",
      "\n",
      "Ids from annotation resources for further query: pubmed_id, ensembl_gene_id, uniprot_id, hgnc_gene_symbol, wikipathway_id\n",
      "\n",
      "Fetching 38 drug(s) . . .\n",
      "No results to return\n",
      "Number of IDs from mydrug.info related to this query is : 38\n",
      "Summary of resources to explore for entrez_gene_id 10797:\n",
      "\n",
      "Annotation Resources: mygene.info\n",
      "\n",
      "Query Resources: myvariant.info, mygene.info\n",
      "\n",
      "Ids from annotation resources for further annotate: ensembl_gene_id, hgnc_gene_symbol, wikipathway_id, uniprot_id\n",
      "\n",
      "Ids from annotation resources for further query: pubmed_id, ensembl_gene_id, hgnc_gene_symbol, wikipathway_id, uniprot_id\n",
      "\n",
      "Fetching 6 drug(s) . . .\n",
      "No results to return\n",
      "Number of IDs from mydrug.info related to this query is : 6\n"
     ]
    }
   ],
   "source": [
    "for _gene in gene_list:\n",
    "    # Get exploration results for each Entrez Gene ID returned from step 3\n",
    "    gene_results = BiothingsExplorer('entrez_gene_id', _gene)\n",
    "    # Find related uniprot ID to each Entrez Gene ID\n",
    "    uniprot_id = gene_results.ExploreXrefResults().results()['annotate']['uniprot_id']\n",
    "    # From Exploration results, get all compound and drug id from 'mydrug.info'\n",
    "    for _uniprot in uniprot_id:\n",
    "        drug_ids = gene_results.ExploreXrefResults().ExploreQueryResults('uniprot_id', _uniprot).get_id_list('mydrug.info')\n",
    "        final_results[_gene] = drug_ids"
   ]
  },
  {
   "cell_type": "code",
   "execution_count": 10,
   "metadata": {
    "collapsed": false
   },
   "outputs": [
    {
     "name": "stdout",
     "output_type": "stream",
     "text": [
      "{'5634': [], '10797': ['MSTNYGQPCMXVAQ-KIYNQFGBSA-N', 'FBOZXECLQNJBKD-ZDUSSCGKSA-N', 'OVBPIULPVIDEAO-LBPRGKRZSA-N', 'VVIAGPKUTFNRDU-STQMWFEESA-N', 'BOPGDPNILDQYTO-NNYOXOHSSA-N', 'BDAGIHXWWSANSR-UHFFFAOYSA-N'], '3614': ['HPNSFSBZBAHARI-RUDMXATFSA-N', 'RTGDFNSFWBGLEC-SYZQJQIISA-N', 'DB06103', 'ALOBOMYIOYNCBS-FCIPNVEPSA-O', 'IWUCXVSUMQZMFG-AFCXAGJDSA-N', 'BOPGDPNILDQYTO-NNYOXOHSSA-N', 'GLVAUDGFNGKCSF-UHFFFAOYSA-N', 'IOJBSLDWMHFRAL-UHFFFAOYSA-N', 'OIRDTQYFTABQOQ-KQYNXXCUSA-N', 'IVOMOUWHDPKRLL-ASCDQALMSA-N', 'GFFGJBXGBJISGV-UHFFFAOYSA-N', 'LTFMZDNNPPEQNG-KVQBGUIXSA-N', 'NYHBQMYGNKIUIF-BZKDHIKHSA-N', 'CWQZZPRFMBHEEG-UHFFFAOYSA-N', 'RQFCJASXJCIDSX-BZKDHIKHSA-N', 'LRFVTYWOQMYALW-UHFFFAOYSA-N', 'NOTGFIUVDGNKRI-BZKDHIKHSA-N', 'YXJDFQJKERBOBM-TXICZTDVSA-N', 'UGQMRVRMYYASKQ-KQYNXXCUSA-N', 'WYWHKKSPHMUBEB-UHFFFAOYSA-N', 'LMEKQMALGUDUQG-UHFFFAOYSA-N', 'PQGCEDQWHSBAJP-TXICZTDVSA-N', 'UDMBCSSLTHHNCD-KQYNXXCUSA-N', 'MSTNYGQPCMXVAQ-KIYNQFGBSA-N', 'VZCYOOQTPOCHFL-UPHRSURJSA-N', 'CKLJMWTZIZZHCS-REOHCLBHSA-N', 'DHMQDGOQFOQNFH-UHFFFAOYSA-N', 'HCHKCACWOHOZIP-UHFFFAOYSA-N', 'WHUUTDBJXJRKMK-VKHMYHEASA-N', 'YHLKGEDAGPGZPN-RGGAHWMASA-L', 'ZKHQWZAMYRWXGA-YPLCUDRINA-N', 'XPPKVPWEQAFLFU-UHFFFAOYSA-J', 'VWWQXMAJTJZDQX-UYBVJOGSSA-N', 'OYPRJOBELJOOCE-UHFFFAOYSA-N', 'JLVVSXFLKOJNIY-UHFFFAOYSA-N', 'XCCTYIAWTASOJW-ZAKLUEHWSA-N', 'DB01345', 'WSFSSNUMVMOOMR-UHFFFAOYSA-N'], '6303': ['ZFYULDAPZWEGGQ-UHFFFAOYSA-N', 'PFNFFQXMRSDOHW-UHFFFAOYSA-N'], '3251': ['WYWHKKSPHMUBEB-UHFFFAOYSA-N', 'LMEKQMALGUDUQG-UHFFFAOYSA-N', 'GLVAUDGFNGKCSF-UHFFFAOYSA-N', 'OGCXIHWGXUQTCQ-UHFFFAOYSA-N', 'DB04356', 'PQGCEDQWHSBAJP-TXICZTDVSA-N', 'DCTLYFZHFGENCW-BZKDHIKHSA-O', 'IOJBSLDWMHFRAL-UHFFFAOYSA-N', 'OIRDTQYFTABQOQ-KQYNXXCUSA-N', 'IVOMOUWHDPKRLL-ASCDQALMSA-N', 'GFFGJBXGBJISGV-UHFFFAOYSA-N', 'LRFVTYWOQMYALW-UHFFFAOYSA-N', 'LTFMZDNNPPEQNG-KVQBGUIXSA-N', 'NYHBQMYGNKIUIF-BZKDHIKHSA-N', 'CWQZZPRFMBHEEG-UHFFFAOYSA-N', 'RQFCJASXJCIDSX-BZKDHIKHSA-N', 'NOTGFIUVDGNKRI-BZKDHIKHSA-N', 'YXJDFQJKERBOBM-TXICZTDVSA-N', 'UGQMRVRMYYASKQ-KQYNXXCUSA-N', 'UDMBCSSLTHHNCD-KQYNXXCUSA-N', 'MSTNYGQPCMXVAQ-KIYNQFGBSA-N', 'VZCYOOQTPOCHFL-UPHRSURJSA-N', 'CKLJMWTZIZZHCS-REOHCLBHSA-N', 'DHMQDGOQFOQNFH-UHFFFAOYSA-N', 'HCHKCACWOHOZIP-UHFFFAOYSA-N', 'WHUUTDBJXJRKMK-VKHMYHEASA-N', 'YHLKGEDAGPGZPN-RGGAHWMASA-L', 'BOPGDPNILDQYTO-NNYOXOHSSA-N', 'ZKHQWZAMYRWXGA-YPLCUDRINA-N', 'XPPKVPWEQAFLFU-UHFFFAOYSA-J', 'VWWQXMAJTJZDQX-UYBVJOGSSA-N', 'OYPRJOBELJOOCE-UHFFFAOYSA-N', 'JLVVSXFLKOJNIY-UHFFFAOYSA-N', 'DB01345'], '6723': ['MEFKEPWMEQBLKI-AIRLBKTGSA-O', 'PFNFFQXMRSDOHW-UHFFFAOYSA-N', 'ATHGHQPFGPMSJY-UHFFFAOYSA-N', 'KIDHWZJUCRJVML-UHFFFAOYSA-N', 'SXFSQZDSUWACKX-UHFFFAOYSA-N', 'UKAUYVFTDYCKQA-VKHMYHEASA-N', 'OEYIOHPDSNJKLS-UHFFFAOYSA-N', 'FFEARJCKVFRZRR-BYPYZUCNSA-N', 'TYEYBOSBBBHJIV-UHFFFAOYSA-N', 'FFDGPVCHZBVARC-UHFFFAOYSA-N', 'MTCFGRXMJLQNBG-REOHCLBHSA-N', 'OIRDTQYFTABQOQ-KQYNXXCUSA-N', 'MSTNYGQPCMXVAQ-KIYNQFGBSA-N', 'DHMQDGOQFOQNFH-UHFFFAOYSA-N', 'UDMBCSSLTHHNCD-KQYNXXCUSA-N', 'XUJNEKJLAYXESH-RUOZJJLTNA-N', 'ZKHQWZAMYRWXGA-YPLCUDRINA-N', 'XPPKVPWEQAFLFU-UHFFFAOYSA-J', 'NGVDGCNFYWLIFO-UHFFFAOYSA-N', 'AHLPHDHHMVZTML-BYPYZUCNSA-N', 'AIJULSRZWUXGPQ-UHFFFAOYSA-N', 'VWWQXMAJTJZDQX-UYBVJOGSSA-N', 'BOPGDPNILDQYTO-NNYOXOHSSA-N', 'DB01345', 'HCHKCACWOHOZIP-UHFFFAOYSA-N', 'JLVVSXFLKOJNIY-UHFFFAOYSA-N'], '5423': ['WCUHTHVUZQCBTI-KBAYOESNSA-N', 'UHDGCWIWMRVCDJ-CCXZUQQUSA-N', 'SUYVUBYJARFZHO-DSYKOEDSSA-N'], '4831': ['WOZSCQDILHKSGG-UHFFFAOYSA-N', 'SGOIRFVFHAKUTI-ZCFIWIBFSA-N', 'JTEGQNOMFQHVDC-NKWVEPMBSA-N', 'GUBGYTABKSRVRQ-QKKXKWKRSA-N', 'HXXFSFRBOHSIMQ-FPRJBGLDSA-N', 'QGWNDRXFNXRZMB-BZKDHIKHSA-N', 'DJJCXFVJDGTHFX-ZAKLUEHWSA-N', 'XCCTYIAWTASOJW-ZAKLUEHWSA-N'], '6241': ['DB05801', 'BIXBBIPTYBJTRY-UHFFFAOYSA-N', 'VAZLWPAHMORDGR-WRIGXHCHSA-L', 'CHPZKNULDCNCBW-UHFFFAOYSA-N', 'PTOAARAWEBMLNO-KVQBGUIXSA-N', 'SDUQYLNIPVEERB-QPPQHZFASA-N', 'HLKXYZVTANABHZ-REOHCLBHSA-N', 'DJJCXFVJDGTHFX-ZAKLUEHWSA-N', 'RWQNBRDOKXIBIV-UHFFFAOYSA-N', 'DRTQHJPVMGBUCF-ZAKLUEHWSA-N', 'JSRLJPSBLDHEIO-SHYZEUOFSA-N', 'OIVLITBTBDPEFK-UHFFFAOYSA-N', 'PXQPEWDEAKTCGB-UHFFFAOYSA-N', 'UFIVEPVSAGBUSI-REOHCLBHSA-N', 'ISAKRJDGNUQOIC-UHFFFAOYSA-N', 'GYOZYWVXFNDGLU-XLPZGREQSA-N', 'IQFYYKKMVGJFEH-GJMOJQLCSA-N', 'IOJBSLDWMHFRAL-UHFFFAOYSA-N', 'YXJDFQJKERBOBM-TXICZTDVSA-N', 'GLVAUDGFNGKCSF-UHFFFAOYSA-N', 'OIRDTQYFTABQOQ-KQYNXXCUSA-N', 'LTFMZDNNPPEQNG-KVQBGUIXSA-N', 'NYHBQMYGNKIUIF-BZKDHIKHSA-N', 'CWQZZPRFMBHEEG-UHFFFAOYSA-N', 'PQGCEDQWHSBAJP-TXICZTDVSA-N', 'LRFVTYWOQMYALW-UHFFFAOYSA-N', 'RQFCJASXJCIDSX-BZKDHIKHSA-N', 'PCDQPRRSZKQHHS-ZAKLUEHWSA-N', 'IVOMOUWHDPKRLL-ASCDQALMSA-N', 'GFFGJBXGBJISGV-UHFFFAOYSA-N', 'WYWHKKSPHMUBEB-UHFFFAOYSA-N', 'NOTGFIUVDGNKRI-BZKDHIKHSA-N', 'UGQMRVRMYYASKQ-KQYNXXCUSA-N', 'LMEKQMALGUDUQG-UHFFFAOYSA-N', 'UCMIRNVEIXFBKS-UHFFFAOYSA-N', 'KYOBSHFOBAOFBF-ZAKLUEHWSA-N', 'FVTCRASFADXXNN-YRGRVCCFSA-N', 'UDMBCSSLTHHNCD-KQYNXXCUSA-N', 'MSTNYGQPCMXVAQ-KIYNQFGBSA-N', 'VZCYOOQTPOCHFL-UPHRSURJSA-N', 'CKLJMWTZIZZHCS-REOHCLBHSA-N', 'DHMQDGOQFOQNFH-UHFFFAOYSA-N', 'HCHKCACWOHOZIP-UHFFFAOYSA-N', 'ZKHQWZAMYRWXGA-YPLCUDRINA-N', 'XPPKVPWEQAFLFU-UHFFFAOYSA-J', 'YHLKGEDAGPGZPN-RGGAHWMASA-L', 'WHUUTDBJXJRKMK-VKHMYHEASA-N', 'BOPGDPNILDQYTO-NNYOXOHSSA-N', 'VWWQXMAJTJZDQX-UYBVJOGSSA-N', 'OYPRJOBELJOOCE-UHFFFAOYSA-N', 'JLVVSXFLKOJNIY-UHFFFAOYSA-N', 'DB01345', 'XCCTYIAWTASOJW-ZAKLUEHWSA-N', 'XEEYBQQBJWHFJM-UHFFFAOYSA-N'], '6240': ['SDUQYLNIPVEERB-QPPQHZFASA-N', 'VSNHCAURESNICA-UHFFFAOYSA-N', 'DB05420', 'WDDPHFBMKLOVOX-AYQXTPAHSA-N', 'BIXBBIPTYBJTRY-UHFFFAOYSA-N', 'GIUYCYHIANZCFB-FJFJXFQQSA-N', 'PTOAARAWEBMLNO-KVQBGUIXSA-N', 'GLVAUDGFNGKCSF-UHFFFAOYSA-N', 'IOJBSLDWMHFRAL-UHFFFAOYSA-N', 'OIRDTQYFTABQOQ-KQYNXXCUSA-N', 'CWQZZPRFMBHEEG-UHFFFAOYSA-N', 'IVOMOUWHDPKRLL-ASCDQALMSA-N', 'GFFGJBXGBJISGV-UHFFFAOYSA-N', 'LTFMZDNNPPEQNG-KVQBGUIXSA-N', 'NYHBQMYGNKIUIF-BZKDHIKHSA-N', 'LRFVTYWOQMYALW-UHFFFAOYSA-N', 'RQFCJASXJCIDSX-BZKDHIKHSA-N', 'WYWHKKSPHMUBEB-UHFFFAOYSA-N', 'NOTGFIUVDGNKRI-BZKDHIKHSA-N', 'YXJDFQJKERBOBM-TXICZTDVSA-N', 'UGQMRVRMYYASKQ-KQYNXXCUSA-N', 'LMEKQMALGUDUQG-UHFFFAOYSA-N', 'PQGCEDQWHSBAJP-TXICZTDVSA-N', 'UDMBCSSLTHHNCD-KQYNXXCUSA-N', 'VZCYOOQTPOCHFL-UPHRSURJSA-N', 'MSTNYGQPCMXVAQ-KIYNQFGBSA-N', 'CKLJMWTZIZZHCS-REOHCLBHSA-N', 'DHMQDGOQFOQNFH-UHFFFAOYSA-N', 'HCHKCACWOHOZIP-UHFFFAOYSA-N', 'YHLKGEDAGPGZPN-RGGAHWMASA-L', 'WHUUTDBJXJRKMK-VKHMYHEASA-N', 'ZKHQWZAMYRWXGA-YPLCUDRINA-N', 'BOPGDPNILDQYTO-NNYOXOHSSA-N', 'XPPKVPWEQAFLFU-UHFFFAOYSA-J', 'VWWQXMAJTJZDQX-UYBVJOGSSA-N', 'OYPRJOBELJOOCE-UHFFFAOYSA-N', 'JLVVSXFLKOJNIY-UHFFFAOYSA-N', 'DB01345'], '5631': [], '1719': ['FBOZXECLQNJBKD-ZDUSSCGKSA-N', 'TVZGACDUOSZQKY-LBPRGKRZSA-N', 'NOYPYLRCIDNJJB-UHFFFAOYSA-N', 'PUOZHLHNKHRTOW-UHFFFAOYSA-N', 'PEGMMEYCSOZKIT-UHFFFAOYSA-N', 'HZTFNSCZLJLPEO-UHFFFAOYSA-N', 'KMSATRJZEXNGDP-UHFFFAOYSA-N', 'XZXVRKHUCSXVBM-AWEZNQCLSA-N', 'JJWPLCQODKLEHY-JEOXALJRSA-N', 'WNDJHUNKXPAREB-PLNGDYQASA-N', 'QVXYJVHNRPNRJL-HNNXBMFYSA-N', 'VJXSSYDSOJBUAV-UHFFFAOYSA-N', 'NXCCIJQEAKMFGW-UHFFFAOYSA-N', 'PCBWLKUEKANDCL-INIZCTEOSA-N', 'ATFDKOLABYIYCC-INIZCTEOSA-N', 'IEDVJHCEMCRBQM-UHFFFAOYSA-O', 'JPENSYBRTSIYGO-AWEZNQCLSA-N', 'SSOLNOMRVKKSON-UHFFFAOYSA-N', 'OGSBUKJUDHAQEA-WMCAAGNKSA-N', 'YBJANOUTWRTBDK-UHFFFAOYSA-N', 'XWCCXDBXMCTZPW-UHFFFAOYSA-N', 'WKSAUQYGYAYLPV-UHFFFAOYSA-N', 'HDQIGGQUKAQTGU-SZTTVXCBSA-N', 'IEDVJHCEMCRBQM-UHFFFAOYSA-N', 'NNFDQABYXZBKRK-UHFFFAOYSA-N', 'WBXPDJSOTKVWSJ-CYBMUJFWSA-N', 'CEAZRRDELHUEMR-UHFFFAOYSA-N', 'LHQIJBMDNUYRAM-AWFVSMACSA-N', 'BMQYVXCPAOLZOK-INEUFUBQSA-N', 'UNXRWKVEANCORM-UHFFFAOYSA-N', 'OVBPIULPVIDEAO-LBPRGKRZSA-N', 'VVIAGPKUTFNRDU-STQMWFEESA-N', 'BOPGDPNILDQYTO-NNYOXOHSSA-N', 'XJLXINKUBYWONI-XCSFTKGKSA-N', 'BDAGIHXWWSANSR-UHFFFAOYSA-N', 'FNKQXYHWGSIFBK-UHFFFAOYSA-N', 'HCHKCACWOHOZIP-UHFFFAOYSA-N', 'MSTNYGQPCMXVAQ-KIYNQFGBSA-N'], '158': ['CKLJMWTZIZZHCS-UWTATZPHSA-N', 'DCXYFEDJOCDNAF-REOHCLBHSA-N', 'GLVAUDGFNGKCSF-UHFFFAOYSA-N', 'OIRDTQYFTABQOQ-KQYNXXCUSA-N', 'IOJBSLDWMHFRAL-UHFFFAOYSA-N', 'HLKXYZVTANABHZ-REOHCLBHSA-N', 'LRFVTYWOQMYALW-UHFFFAOYSA-N', 'RQFCJASXJCIDSX-BZKDHIKHSA-N', 'IVOMOUWHDPKRLL-ASCDQALMSA-N', 'GFFGJBXGBJISGV-UHFFFAOYSA-N', 'LTFMZDNNPPEQNG-KVQBGUIXSA-N', 'NYHBQMYGNKIUIF-BZKDHIKHSA-N', 'CWQZZPRFMBHEEG-UHFFFAOYSA-N', 'WYWHKKSPHMUBEB-UHFFFAOYSA-N', 'NOTGFIUVDGNKRI-BZKDHIKHSA-N', 'YXJDFQJKERBOBM-TXICZTDVSA-N', 'UGQMRVRMYYASKQ-KQYNXXCUSA-N', 'LMEKQMALGUDUQG-UHFFFAOYSA-N', 'UDMBCSSLTHHNCD-KQYNXXCUSA-N', 'PQGCEDQWHSBAJP-TXICZTDVSA-N', 'CKLJMWTZIZZHCS-REOHCLBHSA-N', 'VZCYOOQTPOCHFL-UPHRSURJSA-N', 'MSTNYGQPCMXVAQ-KIYNQFGBSA-N', 'UCMIRNVEIXFBKS-UHFFFAOYSA-N', 'DHMQDGOQFOQNFH-UHFFFAOYSA-N', 'RHGKLRLOHDJJDR-BYPYZUCNSA-N', 'ZKHQWZAMYRWXGA-YPLCUDRINA-N', 'QTBSBXVTEAMEQO-UHFFFAOYSA-M', 'HCHKCACWOHOZIP-UHFFFAOYSA-N', 'XPPKVPWEQAFLFU-UHFFFAOYSA-J', 'WHUUTDBJXJRKMK-VKHMYHEASA-N', 'YHLKGEDAGPGZPN-RGGAHWMASA-L', 'ODKSFYDXXFIFQN-BYPYZUCNSA-N', 'BOPGDPNILDQYTO-NNYOXOHSSA-N', 'VWWQXMAJTJZDQX-UYBVJOGSSA-N', 'OYPRJOBELJOOCE-UHFFFAOYSA-N', 'JLVVSXFLKOJNIY-UHFFFAOYSA-N', 'DB01345', 'NGVDGCNFYWLIFO-UHFFFAOYSA-N'], '159': ['CKLJMWTZIZZHCS-REOHCLBHSA-N', 'GLVAUDGFNGKCSF-UHFFFAOYSA-N', 'IOJBSLDWMHFRAL-UHFFFAOYSA-N', 'OIRDTQYFTABQOQ-KQYNXXCUSA-N', 'IVOMOUWHDPKRLL-ASCDQALMSA-N', 'GFFGJBXGBJISGV-UHFFFAOYSA-N', 'LTFMZDNNPPEQNG-KVQBGUIXSA-N', 'NYHBQMYGNKIUIF-BZKDHIKHSA-N', 'CWQZZPRFMBHEEG-UHFFFAOYSA-N', 'LRFVTYWOQMYALW-UHFFFAOYSA-N', 'RQFCJASXJCIDSX-BZKDHIKHSA-N', 'WYWHKKSPHMUBEB-UHFFFAOYSA-N', 'NOTGFIUVDGNKRI-BZKDHIKHSA-N', 'YXJDFQJKERBOBM-TXICZTDVSA-N', 'UGQMRVRMYYASKQ-KQYNXXCUSA-N', 'LMEKQMALGUDUQG-UHFFFAOYSA-N', 'PQGCEDQWHSBAJP-TXICZTDVSA-N', 'UDMBCSSLTHHNCD-KQYNXXCUSA-N', 'MSTNYGQPCMXVAQ-KIYNQFGBSA-N', 'VZCYOOQTPOCHFL-UPHRSURJSA-N', 'DHMQDGOQFOQNFH-UHFFFAOYSA-N', 'HCHKCACWOHOZIP-UHFFFAOYSA-N', 'YHLKGEDAGPGZPN-RGGAHWMASA-L', 'WHUUTDBJXJRKMK-VKHMYHEASA-N', 'BOPGDPNILDQYTO-NNYOXOHSSA-N', 'ZKHQWZAMYRWXGA-YPLCUDRINA-N', 'XPPKVPWEQAFLFU-UHFFFAOYSA-J', 'VWWQXMAJTJZDQX-UYBVJOGSSA-N', 'OYPRJOBELJOOCE-UHFFFAOYSA-N', 'JLVVSXFLKOJNIY-UHFFFAOYSA-N', 'DB01345'], '50484': ['PTOAARAWEBMLNO-KVQBGUIXSA-N', 'SDUQYLNIPVEERB-QPPQHZFASA-N', 'HLKXYZVTANABHZ-REOHCLBHSA-N', 'DJJCXFVJDGTHFX-ZAKLUEHWSA-N', 'RWQNBRDOKXIBIV-UHFFFAOYSA-N', 'DRTQHJPVMGBUCF-ZAKLUEHWSA-N', 'JSRLJPSBLDHEIO-SHYZEUOFSA-N', 'OIVLITBTBDPEFK-UHFFFAOYSA-N', 'PXQPEWDEAKTCGB-UHFFFAOYSA-N', 'ISAKRJDGNUQOIC-UHFFFAOYSA-N', 'GYOZYWVXFNDGLU-XLPZGREQSA-N', 'IQFYYKKMVGJFEH-GJMOJQLCSA-N', 'UFIVEPVSAGBUSI-REOHCLBHSA-N', 'PCDQPRRSZKQHHS-ZAKLUEHWSA-N', 'UCMIRNVEIXFBKS-UHFFFAOYSA-N', 'KYOBSHFOBAOFBF-ZAKLUEHWSA-N', 'FVTCRASFADXXNN-YRGRVCCFSA-N', 'YXJDFQJKERBOBM-TXICZTDVSA-N', 'PQGCEDQWHSBAJP-TXICZTDVSA-N', 'ZKHQWZAMYRWXGA-YPLCUDRINA-N', 'XCCTYIAWTASOJW-ZAKLUEHWSA-N', 'XEEYBQQBJWHFJM-UHFFFAOYSA-N', 'HCHKCACWOHOZIP-UHFFFAOYSA-N', 'XPPKVPWEQAFLFU-UHFFFAOYSA-J', 'VWWQXMAJTJZDQX-UYBVJOGSSA-N'], '4946': ['AHLPHDHHMVZTML-BYPYZUCNSA-N'], '5422': ['IXOXBSCIXZEQEQ-UHTZMRCNSA-N', 'WDDPHFBMKLOVOX-AYQXTPAHSA-N', 'GIUYCYHIANZCFB-FJFJXFQQSA-N', 'PTOAARAWEBMLNO-KVQBGUIXSA-N'], '5424': [], '5428': []}\n"
     ]
    }
   ],
   "source": [
    "print(final_results)"
   ]
  },
  {
   "cell_type": "markdown",
   "metadata": {},
   "source": [
    "#### Results: List all genes and compounds regulating the same Wikipathway as the target gene "
   ]
  },
  {
   "cell_type": "code",
   "execution_count": 12,
   "metadata": {
    "collapsed": false
   },
   "outputs": [
    {
     "name": "stdout",
     "output_type": "stream",
     "text": [
      "Compounds related to Entrez Gene ID 5634: []\n",
      "Compounds related to Entrez Gene ID 10797: ['MSTNYGQPCMXVAQ-KIYNQFGBSA-N', 'FBOZXECLQNJBKD-ZDUSSCGKSA-N', 'OVBPIULPVIDEAO-LBPRGKRZSA-N', 'VVIAGPKUTFNRDU-STQMWFEESA-N', 'BOPGDPNILDQYTO-NNYOXOHSSA-N', 'BDAGIHXWWSANSR-UHFFFAOYSA-N']\n",
      "Compounds related to Entrez Gene ID 3614: ['HPNSFSBZBAHARI-RUDMXATFSA-N', 'RTGDFNSFWBGLEC-SYZQJQIISA-N', 'DB06103', 'ALOBOMYIOYNCBS-FCIPNVEPSA-O', 'IWUCXVSUMQZMFG-AFCXAGJDSA-N', 'BOPGDPNILDQYTO-NNYOXOHSSA-N', 'GLVAUDGFNGKCSF-UHFFFAOYSA-N', 'IOJBSLDWMHFRAL-UHFFFAOYSA-N', 'OIRDTQYFTABQOQ-KQYNXXCUSA-N', 'IVOMOUWHDPKRLL-ASCDQALMSA-N', 'GFFGJBXGBJISGV-UHFFFAOYSA-N', 'LTFMZDNNPPEQNG-KVQBGUIXSA-N', 'NYHBQMYGNKIUIF-BZKDHIKHSA-N', 'CWQZZPRFMBHEEG-UHFFFAOYSA-N', 'RQFCJASXJCIDSX-BZKDHIKHSA-N', 'LRFVTYWOQMYALW-UHFFFAOYSA-N', 'NOTGFIUVDGNKRI-BZKDHIKHSA-N', 'YXJDFQJKERBOBM-TXICZTDVSA-N', 'UGQMRVRMYYASKQ-KQYNXXCUSA-N', 'WYWHKKSPHMUBEB-UHFFFAOYSA-N', 'LMEKQMALGUDUQG-UHFFFAOYSA-N', 'PQGCEDQWHSBAJP-TXICZTDVSA-N', 'UDMBCSSLTHHNCD-KQYNXXCUSA-N', 'MSTNYGQPCMXVAQ-KIYNQFGBSA-N', 'VZCYOOQTPOCHFL-UPHRSURJSA-N', 'CKLJMWTZIZZHCS-REOHCLBHSA-N', 'DHMQDGOQFOQNFH-UHFFFAOYSA-N', 'HCHKCACWOHOZIP-UHFFFAOYSA-N', 'WHUUTDBJXJRKMK-VKHMYHEASA-N', 'YHLKGEDAGPGZPN-RGGAHWMASA-L', 'ZKHQWZAMYRWXGA-YPLCUDRINA-N', 'XPPKVPWEQAFLFU-UHFFFAOYSA-J', 'VWWQXMAJTJZDQX-UYBVJOGSSA-N', 'OYPRJOBELJOOCE-UHFFFAOYSA-N', 'JLVVSXFLKOJNIY-UHFFFAOYSA-N', 'XCCTYIAWTASOJW-ZAKLUEHWSA-N', 'DB01345', 'WSFSSNUMVMOOMR-UHFFFAOYSA-N']\n",
      "Compounds related to Entrez Gene ID 6303: ['ZFYULDAPZWEGGQ-UHFFFAOYSA-N', 'PFNFFQXMRSDOHW-UHFFFAOYSA-N']\n",
      "Compounds related to Entrez Gene ID 3251: ['WYWHKKSPHMUBEB-UHFFFAOYSA-N', 'LMEKQMALGUDUQG-UHFFFAOYSA-N', 'GLVAUDGFNGKCSF-UHFFFAOYSA-N', 'OGCXIHWGXUQTCQ-UHFFFAOYSA-N', 'DB04356', 'PQGCEDQWHSBAJP-TXICZTDVSA-N', 'DCTLYFZHFGENCW-BZKDHIKHSA-O', 'IOJBSLDWMHFRAL-UHFFFAOYSA-N', 'OIRDTQYFTABQOQ-KQYNXXCUSA-N', 'IVOMOUWHDPKRLL-ASCDQALMSA-N', 'GFFGJBXGBJISGV-UHFFFAOYSA-N', 'LRFVTYWOQMYALW-UHFFFAOYSA-N', 'LTFMZDNNPPEQNG-KVQBGUIXSA-N', 'NYHBQMYGNKIUIF-BZKDHIKHSA-N', 'CWQZZPRFMBHEEG-UHFFFAOYSA-N', 'RQFCJASXJCIDSX-BZKDHIKHSA-N', 'NOTGFIUVDGNKRI-BZKDHIKHSA-N', 'YXJDFQJKERBOBM-TXICZTDVSA-N', 'UGQMRVRMYYASKQ-KQYNXXCUSA-N', 'UDMBCSSLTHHNCD-KQYNXXCUSA-N', 'MSTNYGQPCMXVAQ-KIYNQFGBSA-N', 'VZCYOOQTPOCHFL-UPHRSURJSA-N', 'CKLJMWTZIZZHCS-REOHCLBHSA-N', 'DHMQDGOQFOQNFH-UHFFFAOYSA-N', 'HCHKCACWOHOZIP-UHFFFAOYSA-N', 'WHUUTDBJXJRKMK-VKHMYHEASA-N', 'YHLKGEDAGPGZPN-RGGAHWMASA-L', 'BOPGDPNILDQYTO-NNYOXOHSSA-N', 'ZKHQWZAMYRWXGA-YPLCUDRINA-N', 'XPPKVPWEQAFLFU-UHFFFAOYSA-J', 'VWWQXMAJTJZDQX-UYBVJOGSSA-N', 'OYPRJOBELJOOCE-UHFFFAOYSA-N', 'JLVVSXFLKOJNIY-UHFFFAOYSA-N', 'DB01345']\n",
      "Compounds related to Entrez Gene ID 6723: ['MEFKEPWMEQBLKI-AIRLBKTGSA-O', 'PFNFFQXMRSDOHW-UHFFFAOYSA-N', 'ATHGHQPFGPMSJY-UHFFFAOYSA-N', 'KIDHWZJUCRJVML-UHFFFAOYSA-N', 'SXFSQZDSUWACKX-UHFFFAOYSA-N', 'UKAUYVFTDYCKQA-VKHMYHEASA-N', 'OEYIOHPDSNJKLS-UHFFFAOYSA-N', 'FFEARJCKVFRZRR-BYPYZUCNSA-N', 'TYEYBOSBBBHJIV-UHFFFAOYSA-N', 'FFDGPVCHZBVARC-UHFFFAOYSA-N', 'MTCFGRXMJLQNBG-REOHCLBHSA-N', 'OIRDTQYFTABQOQ-KQYNXXCUSA-N', 'MSTNYGQPCMXVAQ-KIYNQFGBSA-N', 'DHMQDGOQFOQNFH-UHFFFAOYSA-N', 'UDMBCSSLTHHNCD-KQYNXXCUSA-N', 'XUJNEKJLAYXESH-RUOZJJLTNA-N', 'ZKHQWZAMYRWXGA-YPLCUDRINA-N', 'XPPKVPWEQAFLFU-UHFFFAOYSA-J', 'NGVDGCNFYWLIFO-UHFFFAOYSA-N', 'AHLPHDHHMVZTML-BYPYZUCNSA-N', 'AIJULSRZWUXGPQ-UHFFFAOYSA-N', 'VWWQXMAJTJZDQX-UYBVJOGSSA-N', 'BOPGDPNILDQYTO-NNYOXOHSSA-N', 'DB01345', 'HCHKCACWOHOZIP-UHFFFAOYSA-N', 'JLVVSXFLKOJNIY-UHFFFAOYSA-N']\n",
      "Compounds related to Entrez Gene ID 5423: ['WCUHTHVUZQCBTI-KBAYOESNSA-N', 'UHDGCWIWMRVCDJ-CCXZUQQUSA-N', 'SUYVUBYJARFZHO-DSYKOEDSSA-N']\n",
      "Compounds related to Entrez Gene ID 4831: ['WOZSCQDILHKSGG-UHFFFAOYSA-N', 'SGOIRFVFHAKUTI-ZCFIWIBFSA-N', 'JTEGQNOMFQHVDC-NKWVEPMBSA-N', 'GUBGYTABKSRVRQ-QKKXKWKRSA-N', 'HXXFSFRBOHSIMQ-FPRJBGLDSA-N', 'QGWNDRXFNXRZMB-BZKDHIKHSA-N', 'DJJCXFVJDGTHFX-ZAKLUEHWSA-N', 'XCCTYIAWTASOJW-ZAKLUEHWSA-N']\n",
      "Compounds related to Entrez Gene ID 6241: ['DB05801', 'BIXBBIPTYBJTRY-UHFFFAOYSA-N', 'VAZLWPAHMORDGR-WRIGXHCHSA-L', 'CHPZKNULDCNCBW-UHFFFAOYSA-N', 'PTOAARAWEBMLNO-KVQBGUIXSA-N', 'SDUQYLNIPVEERB-QPPQHZFASA-N', 'HLKXYZVTANABHZ-REOHCLBHSA-N', 'DJJCXFVJDGTHFX-ZAKLUEHWSA-N', 'RWQNBRDOKXIBIV-UHFFFAOYSA-N', 'DRTQHJPVMGBUCF-ZAKLUEHWSA-N', 'JSRLJPSBLDHEIO-SHYZEUOFSA-N', 'OIVLITBTBDPEFK-UHFFFAOYSA-N', 'PXQPEWDEAKTCGB-UHFFFAOYSA-N', 'UFIVEPVSAGBUSI-REOHCLBHSA-N', 'ISAKRJDGNUQOIC-UHFFFAOYSA-N', 'GYOZYWVXFNDGLU-XLPZGREQSA-N', 'IQFYYKKMVGJFEH-GJMOJQLCSA-N', 'IOJBSLDWMHFRAL-UHFFFAOYSA-N', 'YXJDFQJKERBOBM-TXICZTDVSA-N', 'GLVAUDGFNGKCSF-UHFFFAOYSA-N', 'OIRDTQYFTABQOQ-KQYNXXCUSA-N', 'LTFMZDNNPPEQNG-KVQBGUIXSA-N', 'NYHBQMYGNKIUIF-BZKDHIKHSA-N', 'CWQZZPRFMBHEEG-UHFFFAOYSA-N', 'PQGCEDQWHSBAJP-TXICZTDVSA-N', 'LRFVTYWOQMYALW-UHFFFAOYSA-N', 'RQFCJASXJCIDSX-BZKDHIKHSA-N', 'PCDQPRRSZKQHHS-ZAKLUEHWSA-N', 'IVOMOUWHDPKRLL-ASCDQALMSA-N', 'GFFGJBXGBJISGV-UHFFFAOYSA-N', 'WYWHKKSPHMUBEB-UHFFFAOYSA-N', 'NOTGFIUVDGNKRI-BZKDHIKHSA-N', 'UGQMRVRMYYASKQ-KQYNXXCUSA-N', 'LMEKQMALGUDUQG-UHFFFAOYSA-N', 'UCMIRNVEIXFBKS-UHFFFAOYSA-N', 'KYOBSHFOBAOFBF-ZAKLUEHWSA-N', 'FVTCRASFADXXNN-YRGRVCCFSA-N', 'UDMBCSSLTHHNCD-KQYNXXCUSA-N', 'MSTNYGQPCMXVAQ-KIYNQFGBSA-N', 'VZCYOOQTPOCHFL-UPHRSURJSA-N', 'CKLJMWTZIZZHCS-REOHCLBHSA-N', 'DHMQDGOQFOQNFH-UHFFFAOYSA-N', 'HCHKCACWOHOZIP-UHFFFAOYSA-N', 'ZKHQWZAMYRWXGA-YPLCUDRINA-N', 'XPPKVPWEQAFLFU-UHFFFAOYSA-J', 'YHLKGEDAGPGZPN-RGGAHWMASA-L', 'WHUUTDBJXJRKMK-VKHMYHEASA-N', 'BOPGDPNILDQYTO-NNYOXOHSSA-N', 'VWWQXMAJTJZDQX-UYBVJOGSSA-N', 'OYPRJOBELJOOCE-UHFFFAOYSA-N', 'JLVVSXFLKOJNIY-UHFFFAOYSA-N', 'DB01345', 'XCCTYIAWTASOJW-ZAKLUEHWSA-N', 'XEEYBQQBJWHFJM-UHFFFAOYSA-N']\n",
      "Compounds related to Entrez Gene ID 6240: ['SDUQYLNIPVEERB-QPPQHZFASA-N', 'VSNHCAURESNICA-UHFFFAOYSA-N', 'DB05420', 'WDDPHFBMKLOVOX-AYQXTPAHSA-N', 'BIXBBIPTYBJTRY-UHFFFAOYSA-N', 'GIUYCYHIANZCFB-FJFJXFQQSA-N', 'PTOAARAWEBMLNO-KVQBGUIXSA-N', 'GLVAUDGFNGKCSF-UHFFFAOYSA-N', 'IOJBSLDWMHFRAL-UHFFFAOYSA-N', 'OIRDTQYFTABQOQ-KQYNXXCUSA-N', 'CWQZZPRFMBHEEG-UHFFFAOYSA-N', 'IVOMOUWHDPKRLL-ASCDQALMSA-N', 'GFFGJBXGBJISGV-UHFFFAOYSA-N', 'LTFMZDNNPPEQNG-KVQBGUIXSA-N', 'NYHBQMYGNKIUIF-BZKDHIKHSA-N', 'LRFVTYWOQMYALW-UHFFFAOYSA-N', 'RQFCJASXJCIDSX-BZKDHIKHSA-N', 'WYWHKKSPHMUBEB-UHFFFAOYSA-N', 'NOTGFIUVDGNKRI-BZKDHIKHSA-N', 'YXJDFQJKERBOBM-TXICZTDVSA-N', 'UGQMRVRMYYASKQ-KQYNXXCUSA-N', 'LMEKQMALGUDUQG-UHFFFAOYSA-N', 'PQGCEDQWHSBAJP-TXICZTDVSA-N', 'UDMBCSSLTHHNCD-KQYNXXCUSA-N', 'VZCYOOQTPOCHFL-UPHRSURJSA-N', 'MSTNYGQPCMXVAQ-KIYNQFGBSA-N', 'CKLJMWTZIZZHCS-REOHCLBHSA-N', 'DHMQDGOQFOQNFH-UHFFFAOYSA-N', 'HCHKCACWOHOZIP-UHFFFAOYSA-N', 'YHLKGEDAGPGZPN-RGGAHWMASA-L', 'WHUUTDBJXJRKMK-VKHMYHEASA-N', 'ZKHQWZAMYRWXGA-YPLCUDRINA-N', 'BOPGDPNILDQYTO-NNYOXOHSSA-N', 'XPPKVPWEQAFLFU-UHFFFAOYSA-J', 'VWWQXMAJTJZDQX-UYBVJOGSSA-N', 'OYPRJOBELJOOCE-UHFFFAOYSA-N', 'JLVVSXFLKOJNIY-UHFFFAOYSA-N', 'DB01345']\n",
      "Compounds related to Entrez Gene ID 5631: []\n",
      "Compounds related to Entrez Gene ID 1719: ['FBOZXECLQNJBKD-ZDUSSCGKSA-N', 'TVZGACDUOSZQKY-LBPRGKRZSA-N', 'NOYPYLRCIDNJJB-UHFFFAOYSA-N', 'PUOZHLHNKHRTOW-UHFFFAOYSA-N', 'PEGMMEYCSOZKIT-UHFFFAOYSA-N', 'HZTFNSCZLJLPEO-UHFFFAOYSA-N', 'KMSATRJZEXNGDP-UHFFFAOYSA-N', 'XZXVRKHUCSXVBM-AWEZNQCLSA-N', 'JJWPLCQODKLEHY-JEOXALJRSA-N', 'WNDJHUNKXPAREB-PLNGDYQASA-N', 'QVXYJVHNRPNRJL-HNNXBMFYSA-N', 'VJXSSYDSOJBUAV-UHFFFAOYSA-N', 'NXCCIJQEAKMFGW-UHFFFAOYSA-N', 'PCBWLKUEKANDCL-INIZCTEOSA-N', 'ATFDKOLABYIYCC-INIZCTEOSA-N', 'IEDVJHCEMCRBQM-UHFFFAOYSA-O', 'JPENSYBRTSIYGO-AWEZNQCLSA-N', 'SSOLNOMRVKKSON-UHFFFAOYSA-N', 'OGSBUKJUDHAQEA-WMCAAGNKSA-N', 'YBJANOUTWRTBDK-UHFFFAOYSA-N', 'XWCCXDBXMCTZPW-UHFFFAOYSA-N', 'WKSAUQYGYAYLPV-UHFFFAOYSA-N', 'HDQIGGQUKAQTGU-SZTTVXCBSA-N', 'IEDVJHCEMCRBQM-UHFFFAOYSA-N', 'NNFDQABYXZBKRK-UHFFFAOYSA-N', 'WBXPDJSOTKVWSJ-CYBMUJFWSA-N', 'CEAZRRDELHUEMR-UHFFFAOYSA-N', 'LHQIJBMDNUYRAM-AWFVSMACSA-N', 'BMQYVXCPAOLZOK-INEUFUBQSA-N', 'UNXRWKVEANCORM-UHFFFAOYSA-N', 'OVBPIULPVIDEAO-LBPRGKRZSA-N', 'VVIAGPKUTFNRDU-STQMWFEESA-N', 'BOPGDPNILDQYTO-NNYOXOHSSA-N', 'XJLXINKUBYWONI-XCSFTKGKSA-N', 'BDAGIHXWWSANSR-UHFFFAOYSA-N', 'FNKQXYHWGSIFBK-UHFFFAOYSA-N', 'HCHKCACWOHOZIP-UHFFFAOYSA-N', 'MSTNYGQPCMXVAQ-KIYNQFGBSA-N']\n",
      "Compounds related to Entrez Gene ID 158: ['CKLJMWTZIZZHCS-UWTATZPHSA-N', 'DCXYFEDJOCDNAF-REOHCLBHSA-N', 'GLVAUDGFNGKCSF-UHFFFAOYSA-N', 'OIRDTQYFTABQOQ-KQYNXXCUSA-N', 'IOJBSLDWMHFRAL-UHFFFAOYSA-N', 'HLKXYZVTANABHZ-REOHCLBHSA-N', 'LRFVTYWOQMYALW-UHFFFAOYSA-N', 'RQFCJASXJCIDSX-BZKDHIKHSA-N', 'IVOMOUWHDPKRLL-ASCDQALMSA-N', 'GFFGJBXGBJISGV-UHFFFAOYSA-N', 'LTFMZDNNPPEQNG-KVQBGUIXSA-N', 'NYHBQMYGNKIUIF-BZKDHIKHSA-N', 'CWQZZPRFMBHEEG-UHFFFAOYSA-N', 'WYWHKKSPHMUBEB-UHFFFAOYSA-N', 'NOTGFIUVDGNKRI-BZKDHIKHSA-N', 'YXJDFQJKERBOBM-TXICZTDVSA-N', 'UGQMRVRMYYASKQ-KQYNXXCUSA-N', 'LMEKQMALGUDUQG-UHFFFAOYSA-N', 'UDMBCSSLTHHNCD-KQYNXXCUSA-N', 'PQGCEDQWHSBAJP-TXICZTDVSA-N', 'CKLJMWTZIZZHCS-REOHCLBHSA-N', 'VZCYOOQTPOCHFL-UPHRSURJSA-N', 'MSTNYGQPCMXVAQ-KIYNQFGBSA-N', 'UCMIRNVEIXFBKS-UHFFFAOYSA-N', 'DHMQDGOQFOQNFH-UHFFFAOYSA-N', 'RHGKLRLOHDJJDR-BYPYZUCNSA-N', 'ZKHQWZAMYRWXGA-YPLCUDRINA-N', 'QTBSBXVTEAMEQO-UHFFFAOYSA-M', 'HCHKCACWOHOZIP-UHFFFAOYSA-N', 'XPPKVPWEQAFLFU-UHFFFAOYSA-J', 'WHUUTDBJXJRKMK-VKHMYHEASA-N', 'YHLKGEDAGPGZPN-RGGAHWMASA-L', 'ODKSFYDXXFIFQN-BYPYZUCNSA-N', 'BOPGDPNILDQYTO-NNYOXOHSSA-N', 'VWWQXMAJTJZDQX-UYBVJOGSSA-N', 'OYPRJOBELJOOCE-UHFFFAOYSA-N', 'JLVVSXFLKOJNIY-UHFFFAOYSA-N', 'DB01345', 'NGVDGCNFYWLIFO-UHFFFAOYSA-N']\n",
      "Compounds related to Entrez Gene ID 159: ['CKLJMWTZIZZHCS-REOHCLBHSA-N', 'GLVAUDGFNGKCSF-UHFFFAOYSA-N', 'IOJBSLDWMHFRAL-UHFFFAOYSA-N', 'OIRDTQYFTABQOQ-KQYNXXCUSA-N', 'IVOMOUWHDPKRLL-ASCDQALMSA-N', 'GFFGJBXGBJISGV-UHFFFAOYSA-N', 'LTFMZDNNPPEQNG-KVQBGUIXSA-N', 'NYHBQMYGNKIUIF-BZKDHIKHSA-N', 'CWQZZPRFMBHEEG-UHFFFAOYSA-N', 'LRFVTYWOQMYALW-UHFFFAOYSA-N', 'RQFCJASXJCIDSX-BZKDHIKHSA-N', 'WYWHKKSPHMUBEB-UHFFFAOYSA-N', 'NOTGFIUVDGNKRI-BZKDHIKHSA-N', 'YXJDFQJKERBOBM-TXICZTDVSA-N', 'UGQMRVRMYYASKQ-KQYNXXCUSA-N', 'LMEKQMALGUDUQG-UHFFFAOYSA-N', 'PQGCEDQWHSBAJP-TXICZTDVSA-N', 'UDMBCSSLTHHNCD-KQYNXXCUSA-N', 'MSTNYGQPCMXVAQ-KIYNQFGBSA-N', 'VZCYOOQTPOCHFL-UPHRSURJSA-N', 'DHMQDGOQFOQNFH-UHFFFAOYSA-N', 'HCHKCACWOHOZIP-UHFFFAOYSA-N', 'YHLKGEDAGPGZPN-RGGAHWMASA-L', 'WHUUTDBJXJRKMK-VKHMYHEASA-N', 'BOPGDPNILDQYTO-NNYOXOHSSA-N', 'ZKHQWZAMYRWXGA-YPLCUDRINA-N', 'XPPKVPWEQAFLFU-UHFFFAOYSA-J', 'VWWQXMAJTJZDQX-UYBVJOGSSA-N', 'OYPRJOBELJOOCE-UHFFFAOYSA-N', 'JLVVSXFLKOJNIY-UHFFFAOYSA-N', 'DB01345']\n",
      "Compounds related to Entrez Gene ID 50484: ['PTOAARAWEBMLNO-KVQBGUIXSA-N', 'SDUQYLNIPVEERB-QPPQHZFASA-N', 'HLKXYZVTANABHZ-REOHCLBHSA-N', 'DJJCXFVJDGTHFX-ZAKLUEHWSA-N', 'RWQNBRDOKXIBIV-UHFFFAOYSA-N', 'DRTQHJPVMGBUCF-ZAKLUEHWSA-N', 'JSRLJPSBLDHEIO-SHYZEUOFSA-N', 'OIVLITBTBDPEFK-UHFFFAOYSA-N', 'PXQPEWDEAKTCGB-UHFFFAOYSA-N', 'ISAKRJDGNUQOIC-UHFFFAOYSA-N', 'GYOZYWVXFNDGLU-XLPZGREQSA-N', 'IQFYYKKMVGJFEH-GJMOJQLCSA-N', 'UFIVEPVSAGBUSI-REOHCLBHSA-N', 'PCDQPRRSZKQHHS-ZAKLUEHWSA-N', 'UCMIRNVEIXFBKS-UHFFFAOYSA-N', 'KYOBSHFOBAOFBF-ZAKLUEHWSA-N', 'FVTCRASFADXXNN-YRGRVCCFSA-N', 'YXJDFQJKERBOBM-TXICZTDVSA-N', 'PQGCEDQWHSBAJP-TXICZTDVSA-N', 'ZKHQWZAMYRWXGA-YPLCUDRINA-N', 'XCCTYIAWTASOJW-ZAKLUEHWSA-N', 'XEEYBQQBJWHFJM-UHFFFAOYSA-N', 'HCHKCACWOHOZIP-UHFFFAOYSA-N', 'XPPKVPWEQAFLFU-UHFFFAOYSA-J', 'VWWQXMAJTJZDQX-UYBVJOGSSA-N']\n",
      "Compounds related to Entrez Gene ID 4946: ['AHLPHDHHMVZTML-BYPYZUCNSA-N']\n",
      "Compounds related to Entrez Gene ID 5422: ['IXOXBSCIXZEQEQ-UHTZMRCNSA-N', 'WDDPHFBMKLOVOX-AYQXTPAHSA-N', 'GIUYCYHIANZCFB-FJFJXFQQSA-N', 'PTOAARAWEBMLNO-KVQBGUIXSA-N']\n",
      "Compounds related to Entrez Gene ID 5424: []\n",
      "Compounds related to Entrez Gene ID 5428: []\n"
     ]
    }
   ],
   "source": [
    "for gene, drugs in final_results.items():\n",
    "    print('Compounds related to Entrez Gene ID {}: {}'.format(gene,drugs))"
   ]
  },
  {
   "cell_type": "code",
   "execution_count": null,
   "metadata": {
    "collapsed": true
   },
   "outputs": [],
   "source": []
  }
 ],
 "metadata": {
  "kernelspec": {
   "display_name": "Python 3",
   "language": "python",
   "name": "python3"
  },
  "language_info": {
   "codemirror_mode": {
    "name": "ipython",
    "version": 3
   },
   "file_extension": ".py",
   "mimetype": "text/x-python",
   "name": "python",
   "nbconvert_exporter": "python",
   "pygments_lexer": "ipython3",
   "version": "3.5.0"
  }
 },
 "nbformat": 4,
 "nbformat_minor": 0
}
