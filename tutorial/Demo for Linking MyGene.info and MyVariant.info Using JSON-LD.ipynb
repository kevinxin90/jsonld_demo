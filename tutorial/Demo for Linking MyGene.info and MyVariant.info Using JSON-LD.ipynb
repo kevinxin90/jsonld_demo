{
 "cells": [
  {
   "cell_type": "markdown",
   "metadata": {},
   "source": [
    "### Demo for Linking MyGene.info and MyVariant.info Using JSON-LD"
   ]
  },
  {
   "cell_type": "markdown",
   "metadata": {},
   "source": [
    "Use Case Scenario: \n",
    "Upstream analysis identified a missense variant (chr8:g.99440236C>A). \n",
    "The analyst wants to obtain the matching InterPro data in order to assess the likely functional significance of this variant."
   ]
  },
  {
   "cell_type": "markdown",
   "metadata": {},
   "source": [
    "#### Step 1: Query MyVariant.info to retrieve the annotation object for variant chr8:g.99440236C>A"
   ]
  },
  {
   "cell_type": "code",
   "execution_count": 1,
   "metadata": {
    "collapsed": false
   },
   "outputs": [],
   "source": [
    "from jsonld_application import BioThings\n",
    "bt = BioThings()\n",
    "doc = bt.get('chr8:g.99440236C>A', 'variant')"
   ]
  },
  {
   "cell_type": "markdown",
   "metadata": {},
   "source": [
    "#### Step 2: List all available apis linked from this variant"
   ]
  },
  {
   "cell_type": "code",
   "execution_count": 2,
   "metadata": {
    "collapsed": false
   },
   "outputs": [
    {
     "name": "stdout",
     "output_type": "stream",
     "text": [
      "List of linked apis: ['ensembl', 'symbol', 'gene']\n",
      "\n"
     ]
    },
    {
     "data": {
      "text/plain": [
       "['ensembl', 'symbol', 'gene']"
      ]
     },
     "execution_count": 2,
     "metadata": {},
     "output_type": "execute_result"
    }
   ],
   "source": [
    "doc.get_linked_apis()"
   ]
  },
  {
   "cell_type": "markdown",
   "metadata": {},
   "source": [
    "#### Step 3: Link to mygene.info"
   ]
  },
  {
   "cell_type": "code",
   "execution_count": 3,
   "metadata": {
    "collapsed": true
   },
   "outputs": [],
   "source": [
    "gene_doc = doc.get_jsondoc('gene')"
   ]
  },
  {
   "cell_type": "markdown",
   "metadata": {},
   "source": [
    "#### Step 4: Query mygene.info for Interpro"
   ]
  },
  {
   "cell_type": "code",
   "execution_count": 4,
   "metadata": {
    "collapsed": false
   },
   "outputs": [
    {
     "data": {
      "text/plain": [
       "[{'desc': 'SKP1/BTB/POZ domain',\n",
       "  'id': 'IPR011333',\n",
       "  'short_desc': 'SKP1/BTB/POZ'},\n",
       " {'desc': 'BTB/POZ domain', 'id': 'IPR000210', 'short_desc': 'BTB/POZ_dom'},\n",
       " {'desc': 'Ion transport domain',\n",
       "  'id': 'IPR005821',\n",
       "  'short_desc': 'Ion_trans_dom'},\n",
       " {'desc': 'Voltage-dependent channel, four helix bundle domain',\n",
       "  'id': 'IPR027359',\n",
       "  'short_desc': 'Channel_four-helix_dom'},\n",
       " {'desc': 'Potassium channel, voltage dependent, Kv',\n",
       "  'id': 'IPR003968',\n",
       "  'short_desc': 'K_chnl_volt-dep_Kv'},\n",
       " {'desc': 'Voltage-gated potassium channel',\n",
       "  'id': 'IPR028325',\n",
       "  'short_desc': 'VG_K_chnl'},\n",
       " {'desc': 'Potassium channel tetramerisation-type BTB domain',\n",
       "  'id': 'IPR003131',\n",
       "  'short_desc': 'T1-type_BTB'},\n",
       " {'desc': 'Potassium channel, voltage dependent, Kv9',\n",
       "  'id': 'IPR003971',\n",
       "  'short_desc': 'K_chnl_volt-dep_Kv9'}]"
      ]
     },
     "execution_count": 4,
     "metadata": {},
     "output_type": "execute_result"
    }
   ],
   "source": [
    "gene_doc['interpro']"
   ]
  },
  {
   "cell_type": "code",
   "execution_count": null,
   "metadata": {
    "collapsed": true
   },
   "outputs": [],
   "source": []
  }
 ],
 "metadata": {
  "kernelspec": {
   "display_name": "Python 3",
   "language": "python",
   "name": "python3"
  },
  "language_info": {
   "codemirror_mode": {
    "name": "ipython",
    "version": 3
   },
   "file_extension": ".py",
   "mimetype": "text/x-python",
   "name": "python",
   "nbconvert_exporter": "python",
   "pygments_lexer": "ipython3",
   "version": "3.5.0"
  }
 },
 "nbformat": 4,
 "nbformat_minor": 0
}
