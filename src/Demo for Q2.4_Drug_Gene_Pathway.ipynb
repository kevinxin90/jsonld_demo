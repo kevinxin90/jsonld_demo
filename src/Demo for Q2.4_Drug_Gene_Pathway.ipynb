{
 "cells": [
  {
   "cell_type": "markdown",
   "metadata": {},
   "source": [
    "# Query"
   ]
  },
  {
   "cell_type": "markdown",
   "metadata": {},
   "source": [
    "What genes and pathways are uniquely targeted by HSCT conditioning drugs that are well- vs poorly- tolerated by FA patients?"
   ]
  },
  {
   "cell_type": "markdown",
   "metadata": {},
   "source": [
    "# Workflow"
   ]
  },
  {
   "cell_type": "markdown",
   "metadata": {},
   "source": [
    "**Input**: Two HSCT conditioning drug sets: (1) well-tolerated by FA patients (Set1d); (2) poorly-tolerated by FA patients (Set2d)\n",
    "\n",
    "**Step 1.** Retrieve proteins targeted by set of well-tolerated HSCT conditioning drugs --> Set1p\n",
    "\n",
    "**Step 2.** Retrieve proteins targeted by set of well-tolerated HSCT conditioning drugs --> Set2p\n",
    "\n",
    "**Step 3.** Retrieve genes encoding proteins in Set1p vs Set2p --> Set1g, Set2g\n",
    "\n",
    "**Step 4.** Retrieve pathways associated with genes in Set1g vs Set2g --> Set1pw, Set2pw\n",
    "\n",
    "**Step 5.** Retreive other genes involved in pathways in Set1pw vs Set2pw --> Set1g', Set2g'\n",
    "\n",
    "**Step 6.** Execute set comparison analysis to return the set of genes that is uniquely targetd by poorly tolerated drugs (i.e. effected directly or indirectly by poorly tolerated drugs, but not affected by well-tolerated drugs)\n",
    "\n",
    "**Output**: Set of genes that may be uniquely targeted by pre-conditioning drugs that are poorly tolerated by FA patients."
   ]
  },
  {
   "cell_type": "markdown",
   "metadata": {},
   "source": [
    "# Sources & Routes"
   ]
  },
  {
   "cell_type": "markdown",
   "metadata": {},
   "source": [
    "**Step 1 & 2**: **Drug to Protein** [Drug and Compound API](http://c.biothings.io)\n",
    "\n",
    "**Step 3**: **Protein to Gene** [MyGene.info](http://mygene.info)\n",
    "\n",
    "**Step 4**: **Gene to Pathway** [MyGene.info](http://mygene.info)\n",
    "\n",
    "**Step 5**: **Pathway to Gene** [MyGene.info](http://mygene.info)"
   ]
  },
  {
   "cell_type": "markdown",
   "metadata": {},
   "source": [
    "# Demo"
   ]
  },
  {
   "cell_type": "markdown",
   "metadata": {},
   "source": [
    "**Input**: Two HSCT conditioning drug sets: (1) well-tolerated by FA patients (Set1d); (2) poorly-tolerated by FA patients (Set2d)"
   ]
  },
  {
   "cell_type": "code",
   "execution_count": 5,
   "metadata": {
    "collapsed": true
   },
   "outputs": [],
   "source": [
    "'''\n",
    "Assume well-tolerated drugs: Fludarabine, Carmustine\n",
    "Assume poorly-tolerated drugs: Etoposide, Tacrolimus\n",
    "'''\n",
    "drug_set1 = ['Fludarabine', 'Carmustine']\n",
    "drug_set2 = ['Etoposide', 'Tacrolimus']"
   ]
  },
  {
   "cell_type": "code",
   "execution_count": 12,
   "metadata": {
    "collapsed": false
   },
   "outputs": [
    {
     "name": "stdout",
     "output_type": "stream",
     "text": [
      "querying 1-2...done.\n",
      "Finished.\n",
      "[{'_id': 'GIUYCYHIANZCFB-FJFJXFQQSA-N', 'query': 'Fludarabine', 'drugbank': {'accession_number': 'DB01073'}, '_score': 16.305637}, {'_id': 'DLGOEMSEDOSKAD-UHFFFAOYSA-N', 'query': 'Carmustine', 'drugbank': {'accession_number': 'DB00262'}, '_score': 16.305637}]\n",
      "Drugbank ID list for Set1: ['DB01073', 'DB00262']\n"
     ]
    }
   ],
   "source": [
    "'''\n",
    "Get DrugBank ID using drug and compound API (mydrug python package)\n",
    "'''\n",
    "import mydrug\n",
    "md = mydrug.MyDrugInfo()\n",
    "results_drug_set1 = md.querymany(drug_set1, scopes='drugbank.name', fields='drugbank.accession_number')\n",
    "print(results_drug_set1)\n",
    "set1d = [_record['drugbank']['accession_number'] for _record in results_drug_set1]\n",
    "print('Drugbank ID list for Set1: {}'.format(set1d))"
   ]
  },
  {
   "cell_type": "code",
   "execution_count": 13,
   "metadata": {
    "collapsed": false
   },
   "outputs": [
    {
     "name": "stdout",
     "output_type": "stream",
     "text": [
      "querying 1-2...done.\n",
      "Finished.\n",
      "[{'_id': 'VJJPUSNTGOMMGY-MRVIYFEKSA-N', 'query': 'Etoposide', 'drugbank': {'accession_number': 'DB00773'}, '_score': 16.305143}, {'_id': 'QJJXYPPXXYFBGM-LFZNUXCKSA-N', 'query': 'Tacrolimus', 'drugbank': {'accession_number': 'DB00864'}, '_score': 16.30573}]\n",
      "Drugbank ID list for Set2: ['DB00773', 'DB00864']\n"
     ]
    }
   ],
   "source": [
    "results_drug_set2 = md.querymany(drug_set2, scopes='drugbank.name', fields='drugbank.accession_number')\n",
    "print(results_drug_set2)\n",
    "set2d = [_record['drugbank']['accession_number'] for _record in results_drug_set2]\n",
    "print('Drugbank ID list for Set2: {}'.format(set2d))"
   ]
  },
  {
   "cell_type": "markdown",
   "metadata": {},
   "source": [
    "**Step 1**. Retrieve proteins (*uniprot_id*) targeted by set of well-tolerated HSCT conditioning drugs --> Set1p"
   ]
  },
  {
   "cell_type": "code",
   "execution_count": 8,
   "metadata": {
    "collapsed": true
   },
   "outputs": [],
   "source": [
    "'''\n",
    "Using Biothings Python Library to find Uniprot_ID related to each Drugbank_ID\n",
    "Biothings Library is built on JSON-LD\n",
    "The query is done through Drug and Compound API internally\n",
    "'''\n",
    "from biothings import IdListHandler\n",
    "# IdListHandler is designed to handle a list of given IDs, e.g. drugbank ID, and return a list of IDs given the output type, e.g. uniprot_id\n",
    "ih = IdListHandler()\n"
   ]
  },
  {
   "cell_type": "code",
   "execution_count": 14,
   "metadata": {
    "collapsed": false
   },
   "outputs": [
    {
     "name": "stdout",
     "output_type": "stream",
     "text": [
      "Protein Uniprot IDs related to Drugs in Drug Set 1 is: ['P23921', 'P09884', 'P27707', 'P00390']\n"
     ]
    }
   ],
   "source": [
    "'''\n",
    "Use IdListHandler to retrieve a list of Uniprot_IDs correponding to Drugbank_IDs for Drug Set 1\n",
    "'''\n",
    "set1p = ih.list_handler(input_id_list=set1d, input_type='drugbank_id', output_type='uniprot_id')\n",
    "print('Protein Uniprot IDs related to Drugs in Drug Set 1 is: {}'.format(set1p))"
   ]
  },
  {
   "cell_type": "markdown",
   "metadata": {},
   "source": [
    "**Step 2.** Retrieve proteins targeted by set of well-tolerated HSCT conditioning drugs --> Set2p"
   ]
  },
  {
   "cell_type": "code",
   "execution_count": 15,
   "metadata": {
    "collapsed": false
   },
   "outputs": [
    {
     "name": "stdout",
     "output_type": "stream",
     "text": [
      "Protein Uniprot IDs related to Drugs in Drug Set 2 is: ['P11388', 'Q02880', 'P62942']\n"
     ]
    }
   ],
   "source": [
    "'''\n",
    "Use IdListHandler to retrieve a list of Uniprot_IDs correponding to Drugbank_IDs for Drug Set 2\n",
    "'''\n",
    "set2p = ih.list_handler(input_id_list=set2d, input_type='drugbank_id', output_type='uniprot_id')\n",
    "print('Protein Uniprot IDs related to Drugs in Drug Set 2 is: {}'.format(set2p))"
   ]
  },
  {
   "cell_type": "markdown",
   "metadata": {},
   "source": [
    "**Step 3**. Retrieve genes encoding proteins in Set1p vs Set2p --> Set1g, Set2g"
   ]
  },
  {
   "cell_type": "code",
   "execution_count": 16,
   "metadata": {
    "collapsed": false
   },
   "outputs": [
    {
     "name": "stdout",
     "output_type": "stream",
     "text": [
      "uniprot.Swiss-Prot:P23921\n",
      "Fetching 1 genes(s) . . .\n",
      "Number of IDs from mygene.info related to this query uniprot.Swiss-Prot:P23921 is : 1\n",
      "uniprot.Swiss-Prot:P09884\n",
      "Fetching 1 genes(s) . . .\n",
      "Number of IDs from mygene.info related to this query uniprot.Swiss-Prot:P09884 is : 1\n",
      "uniprot.Swiss-Prot:P27707\n",
      "Fetching 1 genes(s) . . .\n",
      "Number of IDs from mygene.info related to this query uniprot.Swiss-Prot:P27707 is : 1\n",
      "uniprot.Swiss-Prot:P00390\n",
      "Fetching 1 genes(s) . . .\n",
      "Number of IDs from mygene.info related to this query uniprot.Swiss-Prot:P00390 is : 1\n",
      "Entrez Gene IDs related to Drugs in Drug Set 1 is: ['6240', '5422', '1633', '2936']\n"
     ]
    }
   ],
   "source": [
    "'''\n",
    "Use IdListHandler to retrieve a list of Entrez_Gene_IDs correponding to Uniprot_IDs for Drug Set 1\n",
    "'''\n",
    "set1g = ih.list_handler(input_id_list=set1p, input_type='uniprot_id', output_type='entrez_gene_id')\n",
    "print('Entrez Gene IDs related to Drugs in Drug Set 1 is: {}'.format(set1g))"
   ]
  },
  {
   "cell_type": "code",
   "execution_count": 17,
   "metadata": {
    "collapsed": false
   },
   "outputs": [
    {
     "name": "stdout",
     "output_type": "stream",
     "text": [
      "uniprot.Swiss-Prot:P11388\n",
      "Fetching 1 genes(s) . . .\n",
      "Number of IDs from mygene.info related to this query uniprot.Swiss-Prot:P11388 is : 1\n",
      "uniprot.Swiss-Prot:Q02880\n",
      "Fetching 1 genes(s) . . .\n",
      "Number of IDs from mygene.info related to this query uniprot.Swiss-Prot:Q02880 is : 1\n",
      "uniprot.Swiss-Prot:P62942\n",
      "Fetching 1 genes(s) . . .\n",
      "Number of IDs from mygene.info related to this query uniprot.Swiss-Prot:P62942 is : 1\n",
      "Entrez Gene IDs related to Drugs in Drug Set 1 is: ['7153', '7155', '2280']\n"
     ]
    }
   ],
   "source": [
    "'''\n",
    "Use IdListHandler to retrieve a list of Entrez_Gene_IDs correponding to Uniprot_IDs for Drug Set 1\n",
    "'''\n",
    "set2g = ih.list_handler(input_id_list=set2p, input_type='uniprot_id', output_type='entrez_gene_id')\n",
    "print('Entrez Gene IDs related to Drugs in Drug Set 1 is: {}'.format(set2g))"
   ]
  },
  {
   "cell_type": "markdown",
   "metadata": {},
   "source": [
    "**Step 4.** Retrieve pathways associated with genes in Set1g vs Set2g --> Set1pw, Set2pw"
   ]
  },
  {
   "cell_type": "code",
   "execution_count": 18,
   "metadata": {
    "collapsed": false
   },
   "outputs": [
    {
     "name": "stdout",
     "output_type": "stream",
     "text": [
      "Wikipathway IDs related to Drugs in Drug Set 1 is: ['WP1601', 'WP2377', 'WP404', 'WP2446', 'WP404', 'WP2446', 'WP466', 'WP2446', 'WP3925', 'WP2884', 'WP3940', 'WP702', 'WP100', 'WP408', 'WP2882', 'WP692', 'WP15']\n"
     ]
    }
   ],
   "source": [
    "'''\n",
    "Use IdListHandler to retrieve a list of Wikipathway_IDs correponding to Entrez_Gene_IDs for Drug Set 1\n",
    "'''\n",
    "set1pw = ih.list_handler(input_id_list=set1g, input_type='entrez_gene_id', output_type='wikipathway_id')\n",
    "print('Wikipathway IDs related to Drugs in Drug Set 1 is: {}'.format(set1pw))"
   ]
  },
  {
   "cell_type": "code",
   "execution_count": 19,
   "metadata": {
    "collapsed": false
   },
   "outputs": [
    {
     "name": "stdout",
     "output_type": "stream",
     "text": [
      "Wikipathway IDs related to Drugs in Drug Set 2 is: ['WP2377', 'WP2363', 'WP2446', 'WP2361', 'WP2431', 'WP2377', 'WP1471', 'WP560', 'WP536']\n"
     ]
    }
   ],
   "source": [
    "'''\n",
    "Use IdListHandler to retrieve a list of Wikipathway_IDs correponding to Entrez_Gene_IDs for Drug Set 2\n",
    "'''\n",
    "set2pw = ih.list_handler(input_id_list=set2g, input_type='entrez_gene_id', output_type='wikipathway_id')\n",
    "print('Wikipathway IDs related to Drugs in Drug Set 2 is: {}'.format(set2pw))"
   ]
  },
  {
   "cell_type": "markdown",
   "metadata": {},
   "source": [
    "**Step 5.** Retreive other genes involved in pathways in Set1pw vs Set2pw --> Set1g', Set2g'"
   ]
  },
  {
   "cell_type": "code",
   "execution_count": 21,
   "metadata": {
    "collapsed": false
   },
   "outputs": [
    {
     "name": "stdout",
     "output_type": "stream",
     "text": [
      "pathway.wikipathways.id:WP1601\n",
      "Fetching 34 genes(s) . . .\n",
      "Number of IDs from mygene.info related to this query pathway.wikipathways.id:WP1601 is : 34\n",
      "pathway.wikipathways.id:WP2377\n",
      "Fetching 170 genes(s) . . .\n",
      "Number of IDs from mygene.info related to this query pathway.wikipathways.id:WP2377 is : 170\n",
      "pathway.wikipathways.id:WP404\n",
      "Fetching 19 genes(s) . . .\n",
      "Number of IDs from mygene.info related to this query pathway.wikipathways.id:WP404 is : 19\n",
      "pathway.wikipathways.id:WP2446\n",
      "Fetching 89 genes(s) . . .\n",
      "Number of IDs from mygene.info related to this query pathway.wikipathways.id:WP2446 is : 89\n",
      "pathway.wikipathways.id:WP404\n",
      "Fetching 19 genes(s) . . .\n",
      "Number of IDs from mygene.info related to this query pathway.wikipathways.id:WP404 is : 19\n",
      "pathway.wikipathways.id:WP2446\n",
      "Fetching 89 genes(s) . . .\n",
      "Number of IDs from mygene.info related to this query pathway.wikipathways.id:WP2446 is : 89\n",
      "pathway.wikipathways.id:WP466\n",
      "Fetching 42 genes(s) . . .\n",
      "Number of IDs from mygene.info related to this query pathway.wikipathways.id:WP466 is : 42\n",
      "pathway.wikipathways.id:WP2446\n",
      "Fetching 89 genes(s) . . .\n",
      "Number of IDs from mygene.info related to this query pathway.wikipathways.id:WP2446 is : 89\n",
      "pathway.wikipathways.id:WP3925\n",
      "Fetching 91 genes(s) . . .\n",
      "Number of IDs from mygene.info related to this query pathway.wikipathways.id:WP3925 is : 91\n",
      "pathway.wikipathways.id:WP2884\n",
      "Fetching 142 genes(s) . . .\n",
      "Number of IDs from mygene.info related to this query pathway.wikipathways.id:WP2884 is : 142\n",
      "pathway.wikipathways.id:WP3940\n",
      "Fetching 49 genes(s) . . .\n",
      "Number of IDs from mygene.info related to this query pathway.wikipathways.id:WP3940 is : 49\n",
      "pathway.wikipathways.id:WP702\n",
      "Fetching 177 genes(s) . . .\n",
      "Number of IDs from mygene.info related to this query pathway.wikipathways.id:WP702 is : 177\n",
      "pathway.wikipathways.id:WP100\n",
      "Fetching 20 genes(s) . . .\n",
      "Number of IDs from mygene.info related to this query pathway.wikipathways.id:WP100 is : 20\n",
      "pathway.wikipathways.id:WP408\n",
      "Fetching 30 genes(s) . . .\n",
      "Number of IDs from mygene.info related to this query pathway.wikipathways.id:WP408 is : 30\n",
      "pathway.wikipathways.id:WP2882\n",
      "Fetching 316 genes(s) . . .\n",
      "Number of IDs from mygene.info related to this query pathway.wikipathways.id:WP2882 is : 316\n",
      "pathway.wikipathways.id:WP692\n",
      "Fetching 17 genes(s) . . .\n",
      "Number of IDs from mygene.info related to this query pathway.wikipathways.id:WP692 is : 17\n",
      "pathway.wikipathways.id:WP15\n",
      "Fetching 83 genes(s) . . .\n",
      "Number of IDs from mygene.info related to this query pathway.wikipathways.id:WP15 is : 83\n",
      "Other Entrez Gene IDs related to Drugs in Drug Set 1 is: ['7083', '7371', '83549', '51733', '978', '151531', '7378', '5471', '1807', '23583', '10864', '2356', '8836', '2030', '7372', '1890', '1806', '7517', '2068', '6241', '6240', '10057', '6996', '9429', '1719', '8824', '1066', '7298', '10257', '8714', '4524', '407026', '1548', '7157', '10811', '2972', '2287', '641', '2281', '7486', '7031', '4485', '5273', '3732', '3375', '7150', '1630', '84618', '701', '3978', '4908', '6908', '9052', '7490', '9232', '5350', '10411', '27306', '823', '675', '55869', '7153', '51719', '3326', '3172', '820', '4661', '5308', '2100', '10555', '4052', '375', '6240', '6608', '10468', '4914', '9821', '2512', '2280', '5915', '1874', '890', '5893', '5371', '1605', '301', '43', '3589', '995', '351', '8554', '5888', '3562', '2246', '4838', '6794', '10637', '5321', '1677', '4091', '5933', '3925', '10111', '3624', '5914', '1676', '4216', '5156', '5347', '672', '7298', '6469', '23411', '5154', '3727', '627', '1616', '1030', '843', '2099', '815', '1958', '27113', '1019', '1017', '7057', '5163', '356', '25', '7046', '898', '3726', '7132', '2146', '4690', '2931', '7186', '5596', '6009', '3479', '4217', '2064', '5111', '5598', '4087', '3554', '5563', '2260', '5743', '472', '2033', '406991', '1950', '5906', '324', '6256', '2247', '317', '5058', '4089', '355', '8772', '637', '6667', '581', '5728', '842', '840', '572', '841', '3845', '6776', '1398', '4193', '7422', '1956', '100506742', '6772', '595', '6714', '836', '1385', '5578', '596', '7040', '1499', '5601', '6654', '1027', '5290', '7157', '7124', '1432', '5604', '3725', '5894', '5599', '4609', '2885', '5879', '5595', '4790', '207', '5594', '4831', '158', '3614', '159', '5634', '5423', '5631', '4946', '5428', '6303', '3251', '5424', '6241', '6723', '50484', '5422', '6240', '1719', '10797', '5877', '1633', '54443', '4863', '10733', '2189', '10592', '79027', '6596', '7272', '24137', '3275', '8030', '5947', '5985', '6502', '5931', '9126', '8819', '3146', '3148', '7029', '580', '3015', '5928', '81620', '4175', '4998', '5557', '5984', '6595', '7153', '8317', '2956', '1870', '6839', '6241', '8318', '6240', '5426', '5427', '10714', '4172', '7027', '5983', '11124', '7465', '5422', '6119', '4176', '25942', '4173', '6118', '890', '1786', '994', '1719', '6117', '3925', '9134', '9133', '1111', '7298', '891', '1871', '5591', '25', '898', '407025', '896', '983', '1019', '1017', '1021', '5111', '5603', '993', '8243', '406991', '3065', '5925', '1869', '4193', '595', '1026', '1027', '7157', '5894', '4609', '4831', '158', '3614', '159', '5634', '5423', '5631', '4946', '5428', '6303', '3251', '5424', '6241', '6723', '50484', '5422', '6240', '1719', '10797', '5877', '1633', '54443', '4863', '10733', '2189', '10592', '79027', '6596', '7272', '24137', '3275', '8030', '5947', '5985', '6502', '5931', '9126', '8819', '3146', '3148', '580', '5928', '3015', '7029', '81620', '4175', '4998', '5557', '6595', '7153', '5984', '8317', '2956', '1870', '6839', '6241', '8318', '6240', '5427', '5426', '10714', '4172', '11124', '7027', '5983', '7465', '5422', '6119', '4176', '25942', '4173', '6118', '890', '1786', '994', '1719', '6117', '3925', '9134', '1111', '9133', '7298', '891', '1871', '5591', '25', '407025', '898', '983', '896', '1019', '1017', '1021', '5111', '5603', '993', '8243', '406991', '3065', '5925', '1869', '4193', '595', '1026', '1027', '7157', '5894', '4609', '5982', '51053', '29935', '990', '5985', '57804', '55388', '5558', '10926', '7316', '7311', '81620', '8318', '5984', '8317', '4175', '5001', '4998', '5557', '4174', '23594', '5424', '4171', '5427', '5981', '5426', '4999', '23595', '10714', '4172', '5983', '23649', '5000', '6119', '5422', '4173', '4176', '6118', '5425', '6117', '1017', '5111', '5877', '1633', '54443', '4863', '10733', '2189', '10592', '79027', '6596', '7272', '24137', '3275', '8030', '5947', '5985', '6502', '5931', '9126', '8819', '3146', '3148', '7029', '580', '3015', '5928', '81620', '4175', '4998', '5557', '5984', '6595', '7153', '8317', '2956', '1870', '6839', '6241', '8318', '6240', '5426', '5427', '10714', '4172', '7027', '5983', '11124', '7465', '5422', '6119', '4176', '25942', '4173', '6118', '890', '1786', '994', '1719', '6117', '3925', '9134', '9133', '1111', '7298', '891', '1871', '5591', '25', '898', '407025', '896', '983', '1019', '1017', '1021', '5111', '5603', '993', '8243', '406991', '3065', '5925', '1869', '4193', '595', '1026', '1027', '7157', '5894', '4609', '549', '11112', '8639', '151742', '57818', '501', '56922', '84706', '2744', '3376', '586', '3034', '10056', '2184', '10993', '23395', '7407', '26275', '5009', '3155', '4942', '126', '10841', '790', '384', '128', '2746', '8802', '92935', '2058', '3067', '50', '8050', '4357', '2752', '4594', '5831', '6898', '5832', '1373', '4953', '5409', '2806', '131', '1743', '3176', '6611', '4191', '383', '7166', '2271', '4190', '5160', '7453', '1621', '1431', '3158', '440', '6389', '5166', '47', '3939', '30', '2805', '127', '84532', '6723', '4967', '445', '5091', '635', '8974', '7173', '2937', '3033', '6999', '5917', '1738', '216', '1962', '1491', '3417', '4128', '5315', '7054', '2730', '5105', '1644', '875', '2936', '34', '645', '155184', '11254', '9588', '22949', '874', '66035', '11182', '283848', '144195', '6538', '9152', '348932', '6533', '114134', '81031', '200010', '160728', '340024', '6527', '55117', '56606', '6534', '159963', '29988', '6536', '2042', '115584', '8884', '54716', '388662', '873', '28968', '6535', '125206', '6524', '6523', '6540', '6526', '6529', '2949', '23516', '25800', '154091', '283375', '6518', '64116', '4199', '55334', '131', '27173', '55630', '6530', '2938', '29985', '221357', '23764', '4258', '6528', '91252', '57181', '1969', '29986', '2947', '114112', '2941', '4259', '221223', '60482', '3326', '2940', '218', '2258', '201266', '221074', '7922', '2946', '5226', '2952', '5052', '177', '2495', '2512', '10057', '23491', '4097', '2678', '6531', '54577', '6515', '5265', '2950', '7364', '2939', '9817', '23657', '8824', '6514', '2948', '1839', '7295', '3084', '1066', '6532', '2944', '7042', '8878', '54659', '1579', '1244', '2878', '3303', '7039', '2877', '54657', '54578', '2936', '10257', '2730', '54658', '8714', '3082', '6513', '7296', '2729', '6649', '3337', '1728', '4780', '5467', '54600', '7048', '1548', '2539', '3162', '1958', '5155', '6517', '3320', '6256', '7040', '2953', '27232', '1757', '29958', '2880', '1036', '2882', '51380', '10390', '55500', '23743', '55349', '10768', '9468', '56994', '200895', '5833', '1120', '1119', '1759', '55224', '257202', '10400', '2571', '5337', '2572', '5130', '6470', '570', '635', '2937', '1788', '4144', '6472', '6648', '2879', '1491', '4143', '2729', '6649', '2878', '4548', '2730', '4524', '7298', '2877', '2936', '875', '2876', '6647', '55226', '8514', '373156', '23563', '8534', '79807', '56548', '9955', '9953', '4166', '9394', '9196', '3340', '9653', '166012', '9469', '90161', '6718', '79829', '9027', '2954', '64377', '10164', '9486', '9951', '64090', '9957', '57016', '119391', '26151', '122830', '55501', '266722', '89792', '80218', '51126', '7881', '113189', '9348', '339983', '57106', '64579', '9956', '64711', '8509', '9435', '83539', '51302', '445329', '231', '100526830', '2330', '1549', '340665', '54905', '126410', '57834', '8529', '25830', '11283', '260293', '219970', '2327', '1645', '27233', '4837', '285440', '8644', '2329', '10327', '442038', '10858', '92292', '9514', '4051', '113612', '7172', '1646', '1109', '10720', '574537', '10941', '339761', '10249', '22977', '27284', '2053', '199974', '9', '9446', '54579', '54490', '7367', '79799', '79690', '57404', '8574', '391365', '2947', '2941', '4259', '9420', '2949', '6799', '120227', '2326', '1589', '3176', '2940', '1585', '7363', '1584', '2946', '1562', '54575', '1572', '6819', '1551', '64816', '1593', '4257', '56603', '1580', '50515', '221357', '29785', '1553', '1573', '4258', '10', '6820', '570', '6783', '1594', '1592', '2328', '2937', '1591', '54577', '1558', '2052', '66002', '1586', '1312', '2950', '1588', '7364', '2879', '1582', '1583', '2944', '1595', '2948', '653689', '6817', '54658', '441481', '54659', '1577', '2878', '2877', '1565', '54578', '2936', '54657', '1557', '1543', '1545', '1559', '6822', '54600', '1555', '1581', '1571', '1544', '1576', '2953', '26873', '2687', '2938', '2946', '2952', '221357', '2678', '2937', '2879', '290', '2944', '3417', '2730', '2878', '2729', '2877', '2936', '2876', '2539', '2953', '4784', '10587', '1535', '50507', '4501', '7498', '4257', '25828', '847', '6648', '4128', '7296', '2729', '6649', '2878', '54578', '2936', '2876', '6647', '1728', '4780', '1543', '3726', '3162', '5602', '6667', '2953', '2353', '1432', '4790', '6594', '79571', '645', '89795', '29103', '8507', '27286', '155184', '5272', '11254', '9588', '11057', '144195', '6538', '9982', '9152', '79056', '153218', '348932', '10560', '6533', '114134', '81031', '200010', '5375', '160728', '84951', '22949', '874', '51426', '1831', '66035', '11182', '3895', '283848', '81706', '340024', '6527', '55117', '10602', '23054', '117283', '56606', '6534', '29988', '2040', '159963', '6536', '2042', '115584', '1836', '6397', '8884', '11309', '54716', '221079', '388662', '873', '8436', '28968', '121512', '9792', '5552', '6535', '125206', '6524', '1907', '84002', '221393', '6337', '6523', '80315', '55554', '6540', '54566', '6526', '387509', '7266', '6529', '10769', '8140', '56262', '8431', '2949', '4240', '23516', '283375', '64116', '4199', '25800', '154091', '10728', '6518', '29985', '5705', '30', '4257', '221357', '11214', '23764', '4258', '6528', '57491', '5244', '5360', '131', '10998', '26509', '51', '27173', '55630', '55334', '376497', '92737', '6530', '2938', '7546', '8647', '6554', '1551', '27190', '27063', '1969', '29986', '1622', '91252', '2289', '10252', '57181', '6364', '55224', '2947', '114112', '2941', '4259', '221223', '60482', '3326', '6286', '10486', '2940', '7922', '9049', '345', '7363', '218', '5166', '201266', '221074', '8850', '2258', '2946', '5226', '2512', '241', '5997', '2952', '177', '5052', '2495', '5142', '10057', '23491', '4097', '2168', '6342', '2678', '116519', '64241', '51129', '405', '6531', '7128', '347902', '66002', '211', '10599', '570', '57007', '9971', '4616', '5265', '54577', '6515', '6591', '5055', '7056', '3589', '2950', '3484', '7364', '2939', '9817', '64240', '23657', '8824', '6514', '11140', '2948', '7421', '8204', '8553', '9965', '57678', '336', '1376', '7295', '3084', '1839', '7049', '1066', '9970', '3592', '1582', '6532', '8454', '8202', '1962', '8856', '2944', '7042', '10499', '335', '8878', '5460', '2908', '54659', '1579', '7039', '2877', '54578', '2936', '34', '54657', '10062', '1557', '3593', '2878', '3727', '8648', '1244', '3303', '6817', '8714', '10257', '5524', '54658', '2730', '3082', '6513', '2194', '2729', '6649', '5105', '1374', '1028', '7296', '6319', '2099', '196', '5243', '1577', '3337', '1728', '4780', '1559', '3280', '3726', '2539', '3162', '10891', '1555', '1581', '6720', '6822', '5467', '54600', '330', '7048', '1548', '6347', '5465', '5155', '983', '1019', '1958', '3558', '1543', '1545', '329', '6517', '8660', '8243', '3320', '5743', '1544', '6256', '3458', '4791', '2033', '644314', '2308', '1576', '6667', '581', '1956', '3553', '595', '6714', '7040', '1027', '2953', '3725', '6774', '4609', '7124', '9061', '25830', '27233', '9060', '442038', '391365', '445329', '100526830', '27284', '6799', '6820', '6819', '6783', '2936', '6817', '2539', '6822', '10549', '9403', '25824', '55163', '7001', '10935', '6415', '1733', '51714', '348303', '22928', '8564', '57190', '80308', '55829', '83642', '85465', '280636', '247', '58515', '140606', '1735', '51734', '213', '10587', '12', '7498', '257202', '114112', '55312', '5742', '3039', '241', '5052', '3043', '4353', '6288', '6289', '6291', '1734', '8942', '240', '338', '6414', '2678', '1491', '6648', '7295', '1401', '949', '19', '847', '2879', '4548', '2878', '2147', '2877', '875', '2936', '2876', '2155', '4524', '6649', '7296', '5340', '335', '5327', '6647', '6347', '3949', '3643', '3383', '3630', '5054', '5743', '4791', '3458', '3569', '6290', '5970', '3553', '7124', '4790']\n"
     ]
    }
   ],
   "source": [
    "'''\n",
    "Use IdListHandler to retrieve a list of Entrez_Gene_IDs correponding to Wikipathway_IDs for Drug Set 1\n",
    "'''\n",
    "set1g_other = ih.list_handler(input_id_list=set1pw, input_type='wikipathway_id', output_type='entrez_gene_id')\n",
    "print('Other Entrez Gene IDs related to Drugs in Drug Set 1 is: {}'.format(set1g_other))"
   ]
  },
  {
   "cell_type": "code",
   "execution_count": 22,
   "metadata": {
    "collapsed": false
   },
   "outputs": [
    {
     "name": "stdout",
     "output_type": "stream",
     "text": [
      "pathway.wikipathways.id:WP2377\n",
      "Fetching 170 genes(s) . . .\n",
      "Number of IDs from mygene.info related to this query pathway.wikipathways.id:WP2377 is : 170\n",
      "pathway.wikipathways.id:WP2363\n",
      "Fetching 32 genes(s) . . .\n",
      "Number of IDs from mygene.info related to this query pathway.wikipathways.id:WP2363 is : 32\n",
      "pathway.wikipathways.id:WP2446\n",
      "Fetching 89 genes(s) . . .\n",
      "Number of IDs from mygene.info related to this query pathway.wikipathways.id:WP2446 is : 89\n",
      "pathway.wikipathways.id:WP2361\n",
      "Fetching 29 genes(s) . . .\n",
      "Number of IDs from mygene.info related to this query pathway.wikipathways.id:WP2361 is : 29\n",
      "pathway.wikipathways.id:WP2431\n",
      "Fetching 117 genes(s) . . .\n",
      "Number of IDs from mygene.info related to this query pathway.wikipathways.id:WP2431 is : 117\n",
      "pathway.wikipathways.id:WP2377\n",
      "Fetching 170 genes(s) . . .\n",
      "Number of IDs from mygene.info related to this query pathway.wikipathways.id:WP2377 is : 170\n",
      "pathway.wikipathways.id:WP1471\n",
      "Fetching 36 genes(s) . . .\n",
      "Number of IDs from mygene.info related to this query pathway.wikipathways.id:WP1471 is : 36\n",
      "pathway.wikipathways.id:WP560\n",
      "Fetching 55 genes(s) . . .\n",
      "Number of IDs from mygene.info related to this query pathway.wikipathways.id:WP560 is : 55\n",
      "pathway.wikipathways.id:WP536\n",
      "Fetching 149 genes(s) . . .\n",
      "Number of IDs from mygene.info related to this query pathway.wikipathways.id:WP536 is : 149\n",
      "Other Entrez Gene IDs related to Drugs in Drug Set 1 is: ['10811', '2972', '2287', '641', '2281', '7486', '7031', '4485', '5273', '3732', '3375', '7150', '1630', '84618', '701', '3978', '4908', '6908', '9052', '7490', '9232', '5350', '10411', '27306', '823', '675', '55869', '7153', '51719', '3326', '3172', '820', '4661', '5308', '2100', '10555', '4052', '375', '6240', '6608', '10468', '4914', '9821', '2512', '2280', '5915', '1874', '890', '5893', '5371', '1605', '301', '43', '3589', '995', '351', '8554', '5888', '3562', '2246', '4838', '6794', '10637', '5321', '1677', '4091', '5933', '3925', '10111', '3624', '5914', '1676', '4216', '5156', '5347', '672', '7298', '6469', '23411', '5154', '3727', '627', '1616', '1030', '843', '2099', '815', '1958', '27113', '1019', '1017', '7057', '5163', '356', '25', '7046', '898', '3726', '7132', '2146', '4690', '2931', '7186', '5596', '6009', '3479', '4217', '2064', '5111', '5598', '4087', '3554', '5563', '2260', '5743', '472', '2033', '406991', '1950', '5906', '324', '6256', '2247', '317', '5058', '4089', '355', '8772', '637', '6667', '581', '5728', '842', '840', '572', '841', '3845', '6776', '1398', '4193', '7422', '1956', '100506742', '6772', '595', '6714', '836', '1385', '5578', '596', '7040', '1499', '5601', '6654', '1027', '5290', '7157', '7124', '1432', '5604', '3725', '5894', '5599', '4609', '2885', '5879', '5595', '4790', '207', '5594', '157769', '55299', '27101', '63922', '10153', '1299', '29089', '29028', '25909', '1297', '54921', '962', '8926', '255488', '79075', '92140', '3930', '55215', '11065', '51316', '5983', '7153', '5984', '5884', '6277', '55593', '84823', '406887', '1956', '1499', '7157', '4609', '5877', '1633', '54443', '4863', '10733', '2189', '10592', '79027', '6596', '7272', '24137', '3275', '8030', '5947', '5985', '6502', '5931', '9126', '8819', '3146', '3148', '7029', '580', '3015', '5928', '81620', '4175', '4998', '5557', '5984', '6595', '7153', '8317', '2956', '1870', '6839', '6241', '8318', '6240', '5426', '5427', '10714', '4172', '7027', '5983', '11124', '7465', '5422', '6119', '4176', '25942', '4173', '6118', '890', '1786', '994', '1719', '6117', '3925', '9134', '9133', '1111', '7298', '891', '1871', '5591', '25', '898', '407025', '896', '983', '1019', '1017', '1021', '5111', '5603', '993', '8243', '406991', '3065', '5925', '1869', '4193', '595', '1026', '1027', '7157', '5894', '4609', '57122', '352954', '64006', '55125', '56992', '22974', '54891', '286826', '9585', '64094', '11082', '1894', '8607', '8209', '54476', '86', '144455', '3020', '4605', '11065', '1063', '121504', '7153', '6790', '6286', '8900', '4173', '4851', '324', '57556', '5173', '1463', '11025', '961', '11202', '8741', '5542', '9423', '10673', '65078', '64131', '4974', '6586', '358', '2212', '199', '1464', '63827', '1948', '4050', '56963', '1462', '7832', '4282', '6098', '361', '328', '389', '7538', '2596', '2670', '8398', '2043', '5786', '2668', '5803', '6585', '3958', '5362', '176', '6403', '383', '5322', '6869', '5320', '50515', '9353', '50507', '2920', '6662', '4804', '2919', '4099', '1241', '4321', '900', '3164', '2280', '1875', '1282', '727', '729230', '301', '57142', '713', '3627', '407011', '1280', '7431', '4155', '388', '2236', '3952', '2902', '4843', '3565', '627', '1647', '983', '1958', '3383', '1019', '1017', '3558', '3554', '3552', '4318', '5743', '2697', '9475', '4842', '7099', '6347', '3576', '3458', '5925', '2309', '5530', '387', '3569', '1869', '1956', '595', '3553', '836', '5578', '998', '7040', '1027', '7157', '7124', '5879', '5595', '2353', '4609', '5594', '10811', '2972', '2287', '641', '2281', '7486', '7031', '4485', '5273', '3732', '3375', '7150', '1630', '84618', '701', '3978', '4908', '6908', '9052', '7490', '9232', '5350', '10411', '27306', '7153', '55869', '675', '51719', '823', '3326', '3172', '820', '5308', '4661', '2100', '375', '10555', '4052', '6240', '10468', '6608', '2512', '4914', '9821', '2280', '5915', '1874', '890', '5893', '1605', '5371', '301', '43', '3589', '995', '351', '8554', '5888', '3562', '2246', '6794', '4838', '5321', '1677', '10637', '5933', '3925', '4091', '10111', '1676', '3624', '5914', '4216', '5156', '5347', '672', '7298', '6469', '23411', '5154', '3727', '627', '1030', '1616', '2099', '843', '27113', '815', '1019', '1958', '7057', '1017', '5163', '25', '356', '7046', '898', '3726', '7132', '2146', '5596', '4690', '2931', '7186', '6009', '3479', '4217', '2064', '5598', '5111', '4087', '3554', '5563', '2260', '5743', '472', '2033', '406991', '1950', '6256', '5906', '324', '317', '2247', '5058', '4089', '355', '8772', '637', '6667', '842', '5728', '581', '840', '572', '841', '3845', '6776', '1398', '4193', '7422', '1956', '100506742', '6772', '595', '836', '6714', '1385', '5578', '596', '7040', '1499', '5601', '6654', '5290', '1027', '7157', '7124', '1432', '5604', '3725', '5599', '5894', '4609', '2885', '5595', '5879', '4790', '207', '5594', '55615', '79899', '25989', '10670', '10325', '115265', '58528', '64121', '9706', '54541', '2280', '79109', '84335', '8408', '53632', '3422', '5565', '57521', '64223', '5564', '253260', '5571', '51422', '7248', '3156', '5562', '7249', '5563', '6009', '6198', '1978', '5578', '998', '2475', '5879', '207', '25805', '7030', '9372', '2022', '9839', '407028', '4052', '6497', '864', '23090', '3976', '4093', '6498', '10468', '7050', '7044', '8928', '2280', '4090', '7049', '4092', '4091', '3694', '10637', '3624', '9241', '860', '7046', '7057', '1387', '4086', '7048', '7471', '652', '4087', '5054', '51176', '6696', '1950', '2033', '4089', '3458', '4088', '3716', '6772', '1499', '7040', '5601', '7124', '2353', '3265', '3725', '6774', '5595', '4790', '127534', '6547', '844', '57369', '2700', '486', '491', '3745', '81025', '483', '480', '482', '845', '2706', '2709', '2707', '492', '481', '2703', '57165', '10052', '26575', '8787', '8490', '5569', '2701', '782', '774', '6000', '5999', '3760', '309', '490', '10287', '3762', '777', '10804', '11142', '5998', '8601', '2702', '5570', '9628', '5350', '8786', '64407', '808', '805', '773', '7533', '784', '2781', '2868', '2869', '5997', '5996', '816', '1133', '776', '489', '6261', '146', '818', '112', '111', '2767', '115', '155', '6004', '6001', '3709', '196883', '779', '8536', '2705', '59345', '1132', '10636', '1131', '2787', '408', '154', '2870', '153', '2785', '5575', '113', '775', '3710', '7532', '94235', '2280', '2775', '6262', '2810', '114', '811', '6546', '5577', '2791', '6263', '109', '2788', '2786', '7531', '7529', '7534', '108', '54331', '1128', '10681', '148', '2784', '55970', '1129', '2792', '2783', '5576', '814', '147', '107', '51764', '5573', '2773', '817', '5567', '488', '5331', '5581', '2778', '409', '5583', '3708', '5582', '2782', '5588', '2776', '2697', '815', '2770', '10971', '5587', '2771', '801', '5590', '5566', '5579', '5580', '5578']\n"
     ]
    }
   ],
   "source": [
    "'''\n",
    "Use IdListHandler to retrieve a list of Entrez_Gene_IDs correponding to Wikipathway_IDs for Drug Set 2\n",
    "'''\n",
    "set2g_other = ih.list_handler(input_id_list=set2pw, input_type='wikipathway_id', output_type='entrez_gene_id')\n",
    "print('Other Entrez Gene IDs related to Drugs in Drug Set 1 is: {}'.format(set2g_other))"
   ]
  },
  {
   "cell_type": "markdown",
   "metadata": {},
   "source": [
    "**Step 6.** Execute set comparison analysis to return the set of genes that is uniquely targetd by poorly tolerated drugs (i.e. effected directly or indirectly by poorly tolerated drugs, but not affected by well-tolerated drugs)"
   ]
  },
  {
   "cell_type": "code",
   "execution_count": 23,
   "metadata": {
    "collapsed": false
   },
   "outputs": [
    {
     "name": "stdout",
     "output_type": "stream",
     "text": [
      "Total number of unique genes in gene set 1: 913\n",
      "Total number of unique genes in gene set 2: 592\n"
     ]
    }
   ],
   "source": [
    "'''\n",
    "Get Unique Entrez Gene IDs for both sets\n",
    "'''\n",
    "set1g_other_unique = set(set1g_other)\n",
    "set2g_other_unique = set(set2g_other)\n",
    "print('Total number of unique genes in gene set 1: {}'.format(len(set1g_other_unique)))\n",
    "print('Total number of unique genes in gene set 2: {}'.format(len(set2g_other_unique)))"
   ]
  },
  {
   "cell_type": "code",
   "execution_count": 24,
   "metadata": {
    "collapsed": false
   },
   "outputs": [
    {
     "name": "stdout",
     "output_type": "stream",
     "text": [
      "Total number of genes uniquely targeted by poorly tolerated drugs: 334\n"
     ]
    }
   ],
   "source": [
    "'''\n",
    "Find the set of genes that is uniquely targetd by poorly tolerated drugs (e.g. only present in set2g_other_unique)\n",
    "'''\n",
    "set2g_only = set2g_other_unique - set1g_other_unique\n",
    "print('Total number of genes uniquely targeted by poorly tolerated drugs: {}'.format(len(set2g_only)))"
   ]
  },
  {
   "cell_type": "code",
   "execution_count": null,
   "metadata": {
    "collapsed": true
   },
   "outputs": [],
   "source": []
  }
 ],
 "metadata": {
  "kernelspec": {
   "display_name": "Python 3",
   "language": "python",
   "name": "python3"
  },
  "language_info": {
   "codemirror_mode": {
    "name": "ipython",
    "version": 3
   },
   "file_extension": ".py",
   "mimetype": "text/x-python",
   "name": "python",
   "nbconvert_exporter": "python",
   "pygments_lexer": "ipython3",
   "version": "3.5.0"
  }
 },
 "nbformat": 4,
 "nbformat_minor": 0
}
